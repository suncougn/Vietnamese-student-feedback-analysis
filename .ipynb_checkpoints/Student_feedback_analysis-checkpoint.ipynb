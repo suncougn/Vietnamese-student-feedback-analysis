{
 "cells": [
  {
   "cell_type": "code",
   "execution_count": 1,
   "id": "9f56e306-37d4-48d6-9282-2f907883a352",
   "metadata": {},
   "outputs": [],
   "source": [
    "import numpy as np\n",
    "import pandas as pd\n",
    "import matplotlib.pyplot as plt\n",
    "import seaborn as sns\n",
    "from data_processor_pipeline.cleaner import *\n",
    "from data_processor_pipeline.custom_dataset import *\n",
    "from datasets import load_dataset\n",
    "import os\n",
    "import shutil\n",
    "\n",
    "import warnings\n",
    "warnings.filterwarnings('ignore')"
   ]
  },
  {
   "cell_type": "markdown",
   "id": "41beed1b-6904-402a-a5c0-4c313891d212",
   "metadata": {},
   "source": [
    "# Data_Preprocess"
   ]
  },
  {
   "cell_type": "markdown",
   "id": "61a2520f-e2a9-4578-8900-602d679b98e4",
   "metadata": {},
   "source": [
    "## Read data and cleaning"
   ]
  },
  {
   "cell_type": "code",
   "execution_count": 2,
   "id": "8524de17-c955-4fb2-9d83-ff06b600e2be",
   "metadata": {},
   "outputs": [],
   "source": [
    "data=pd.read_csv('vietnamese_student_feedbacks.csv', encoding='utf-8-sig')\n",
    "data_processor=data_clean()\n",
    "data['sentence']=data['sentence'].map(lambda x: data_processor.clean_text(x))"
   ]
  },
  {
   "cell_type": "markdown",
   "id": "c87733b0-737e-498d-985e-45a34ebe2e97",
   "metadata": {},
   "source": [
    "## Train_validation_test"
   ]
  },
  {
   "cell_type": "code",
   "execution_count": 3,
   "id": "17dde437-bcbc-46ee-9aed-c541415ef349",
   "metadata": {},
   "outputs": [],
   "source": [
    "from sklearn.model_selection import train_test_split\n",
    "\n",
    "data['combined_label']=list(zip(data[\"sentiment\"], data['topic']))\n",
    "X_train, X_test, y_train, y_test = train_test_split(data['sentence'].reset_index(drop=True).to_list(),\n",
    "                                                    data['combined_label'].reset_index(drop=True).to_list(),\n",
    "                                                    test_size=0.1,\n",
    "                                                    stratify=data['topic'],\n",
    "                                                    random_state=42)\n",
    "X_train, X_val, y_train, y_val = train_test_split(X_train, y_train, test_size=0.1, random_state=42)"
   ]
  },
  {
   "cell_type": "code",
   "execution_count": 4,
   "id": "48957cef-6e3d-4b91-bb51-8d42bffb4e0c",
   "metadata": {},
   "outputs": [
    {
     "data": {
      "text/plain": [
       "(13101, 1456, 1618)"
      ]
     },
     "execution_count": 4,
     "metadata": {},
     "output_type": "execute_result"
    }
   ],
   "source": [
    "len(X_train), len(X_val), len(X_test)"
   ]
  },
  {
   "cell_type": "code",
   "execution_count": 5,
   "id": "22832ce3-f75a-4dd6-95b6-fefcb8caa0ce",
   "metadata": {},
   "outputs": [],
   "source": [
    "y_train_sentiment, y_train_topic = zip(*y_train)\n",
    "y_val_sentiment, y_val_topic = zip(*y_val)\n",
    "y_test_sentiment, y_test_topic = zip(*y_test)"
   ]
  },
  {
   "cell_type": "markdown",
   "id": "926c057c-5dec-4830-a176-d08774d29337",
   "metadata": {
    "jp-MarkdownHeadingCollapsed": true
   },
   "source": [
    "## Resampled"
   ]
  },
  {
   "cell_type": "code",
   "execution_count": 6,
   "id": "bb492d1f-aa83-481a-8377-04fddf934ad3",
   "metadata": {},
   "outputs": [],
   "source": [
    "df_y_train_sentiment = pd.DataFrame(y_train_sentiment, columns=['y_train_sentiment'])"
   ]
  },
  {
   "cell_type": "code",
   "execution_count": 6,
   "id": "555043e7-3da5-4235-adec-bacfab94fb8f",
   "metadata": {},
   "outputs": [],
   "source": [
    "from sklearn.utils import resample\n",
    "\n",
    "# Separate neutral comments\n",
    "neutral_indices = df_y_train_sentiment[df_y_train_sentiment['y_train_sentiment']==1].to_numpy().flatten()\n",
    "oversample_size = df_y_train_sentiment[df_y_train_sentiment['y_train_sentiment']==0].shape[0] - len(neutral_indices)\n",
    "\n",
    "# Over-sample the neutral comments\n",
    "oversampled_neutral_indices = resample(neutral_indices,\n",
    "                                       replace=True,\n",
    "                                       n_samples=oversample_size)\n",
    "\n",
    "# Combine the original sentences and labels with the oversampled data\n",
    "oversampled_neutral_sentences = np.array(X_train)[oversampled_neutral_indices]\n",
    "\n",
    "train_sentences_oversampled = np.concatenate([X_train, oversampled_neutral_sentences], axis=0)\n",
    "train_labels_oversampled = np.concatenate([y_train_sentiment, np.array([1] * oversample_size)], axis=0)"
   ]
  },
  {
   "cell_type": "code",
   "execution_count": 7,
   "id": "ca4fe64e-4341-4637-8f56-2bd5abd3ae9d",
   "metadata": {},
   "outputs": [],
   "source": [
    "oversampled_neutral_sentences = np.array(X_train)[oversampled_neutral_indices]\n",
    "\n",
    "train_sentences_oversampled = np.concatenate([X_train, oversampled_neutral_sentences], axis=0)\n",
    "train_labels_oversampled = pd.Series(train_labels_oversampled)"
   ]
  },
  {
   "cell_type": "markdown",
   "id": "6720604f-86a0-4f08-a56d-a297b4a8c2ba",
   "metadata": {},
   "source": [
    "## Create dataLoader"
   ]
  },
  {
   "cell_type": "markdown",
   "id": "b0a6597c-68cf-4845-9984-2e974f0efd01",
   "metadata": {},
   "source": [
    "## Sentiment"
   ]
  },
  {
   "cell_type": "code",
   "execution_count": 6,
   "id": "e8423db2-b5c6-4b33-a3a0-d89d55b3f8fa",
   "metadata": {},
   "outputs": [],
   "source": [
    "train_dataset_sentiment=Custom_Dataset(X_train, y_train_sentiment, file_path='vocab.pkl', is_save_vocab=False)\n",
    "val_dataset_sentiment=Custom_Dataset(X_val, y_val_sentiment, file_path='vocab.pkl', is_save_vocab=False)\n",
    "test_dataset_sentiment=Custom_Dataset(X_test, y_test_sentiment, file_path='vocab.pkl', is_save_vocab=False)"
   ]
  },
  {
   "cell_type": "code",
   "execution_count": 7,
   "id": "b29ae088-4342-4931-ba96-7779ac003f34",
   "metadata": {},
   "outputs": [],
   "source": [
    "train_loader_sentiment=DataLoader(train_dataset_sentiment, batch_size=16, shuffle=True)\n",
    "val_loader_sentiment=DataLoader(val_dataset_sentiment, batch_size=16, shuffle=True)\n",
    "test_loader_sentiment=DataLoader(test_dataset_sentiment, batch_size=16, shuffle=True)"
   ]
  },
  {
   "cell_type": "markdown",
   "id": "950e4751-dbb7-4150-9997-29df4b99f861",
   "metadata": {},
   "source": [
    "# DL_model for sentiment classification"
   ]
  },
  {
   "cell_type": "code",
   "execution_count": 8,
   "id": "cab34c61-9c04-45f0-9a1f-8a37ce1b9378",
   "metadata": {},
   "outputs": [],
   "source": [
    "import torch\n",
    "from sklearn.metrics import classification_report, confusion_matrix, accuracy_score\n",
    "\n",
    "def evaluate(model, test_loader, device):\n",
    "    model.eval()\n",
    "    predicted=[]\n",
    "    true_labels=[]\n",
    "    with torch.no_grad():\n",
    "        for batch in test_loader:\n",
    "            output_logits=model(batch['numericalized_encode'].to(device))\n",
    "            _, predict=torch.max(output_logits, 1)\n",
    "            predicted.extend(predict.cpu().numpy())\n",
    "            true_labels.extend(batch['labels'].to(device).cpu().numpy())\n",
    "    return predicted, true_labels"
   ]
  },
  {
   "cell_type": "markdown",
   "id": "05435a2e-e6eb-4e59-b17d-6749b8dc41bb",
   "metadata": {},
   "source": [
    "## RNN"
   ]
  },
  {
   "cell_type": "markdown",
   "id": "c71fd1eb-e1ab-4b82-bd18-3c670384b53d",
   "metadata": {},
   "source": [
    "### Training"
   ]
  },
  {
   "cell_type": "code",
   "execution_count": 9,
   "id": "199e7341-6331-4278-90e8-c7e62f7aa98f",
   "metadata": {},
   "outputs": [],
   "source": [
    "import torch\n",
    "import torch.nn as nn\n",
    "import torch.optim as optim\n",
    "from build_model.build_rnn import *\n",
    "from torch.utils.tensorboard import SummaryWriter\n",
    "from training.trainer import *"
   ]
  },
  {
   "cell_type": "code",
   "execution_count": 10,
   "id": "6672101d-b191-40e7-be2d-2c3eadf7aee6",
   "metadata": {},
   "outputs": [
    {
     "name": "stdout",
     "output_type": "stream",
     "text": [
      "RNN(\n",
      "  (embedding): Embedding(5000, 128)\n",
      "  (rnn): RNN(128, 64, num_layers=2, dropout=0.2)\n",
      "  (dense1): Linear(in_features=64, out_features=64, bias=True)\n",
      "  (bn): BatchNorm1d(64, eps=1e-05, momentum=0.1, affine=True, track_running_stats=True)\n",
      "  (activation): ReLU()\n",
      "  (dropout): Dropout(p=0.2, inplace=False)\n",
      "  (dense2): Linear(in_features=64, out_features=3, bias=True)\n",
      ")\n"
     ]
    }
   ],
   "source": [
    "device=torch.device('cuda' if torch.cuda.is_available() else 'cpu')\n",
    "model_RNN=RNN(vocab_size=5000, embedding_dim=128, activation=nn.ReLU(), batch_normalization=True, bidirectional=False).to(device)\n",
    "criterion=nn.CrossEntropyLoss()\n",
    "optimizer_RNN=optim.Adam(model_RNN.parameters(), lr=0.01)\n",
    "epochs=5\n",
    "trainer=trainer()\n",
    "log_dir='logs/RNN'\n",
    "if os.path.exists(log_dir):\n",
    "    shutil.rmtree(log_dir)\n",
    "writer=SummaryWriter(log_dir='logs/RNN')\n",
    "print(model_RNN)"
   ]
  },
  {
   "cell_type": "code",
   "execution_count": 10,
   "id": "3b58711b-53fc-4bec-b616-2807a5bb805b",
   "metadata": {},
   "outputs": [
    {
     "name": "stderr",
     "output_type": "stream",
     "text": [
      "TRAIN | Epoch: 1/5 | Iter: 819/819 | Error: 0/819 | Loss: 0.0529: 100%|\u001b[38;2;128;0;128m███████████████\u001b[0m| 819/819 [00:31<00:00, 25.98it/s]\u001b[0m\n"
     ]
    },
    {
     "name": "stdout",
     "output_type": "stream",
     "text": [
      "VALIDATION | Epoch: 1/5 | Loss: 0.0514 | Accuracy: 0.5364\n"
     ]
    },
    {
     "name": "stderr",
     "output_type": "stream",
     "text": [
      "TRAIN | Epoch: 2/5 | Iter: 819/819 | Error: 0/819 | Loss: 0.0520: 100%|\u001b[38;2;128;0;128m███████████████\u001b[0m| 819/819 [00:31<00:00, 26.32it/s]\u001b[0m\n"
     ]
    },
    {
     "name": "stdout",
     "output_type": "stream",
     "text": [
      "VALIDATION | Epoch: 2/5 | Loss: 0.0514 | Accuracy: 0.5357\n"
     ]
    },
    {
     "name": "stderr",
     "output_type": "stream",
     "text": [
      "TRAIN | Epoch: 3/5 | Iter: 819/819 | Error: 0/819 | Loss: 0.0517: 100%|\u001b[38;2;128;0;128m███████████████\u001b[0m| 819/819 [00:31<00:00, 26.10it/s]\u001b[0m\n"
     ]
    },
    {
     "name": "stdout",
     "output_type": "stream",
     "text": [
      "VALIDATION | Epoch: 3/5 | Loss: 0.0520 | Accuracy: 0.5350\n"
     ]
    },
    {
     "name": "stderr",
     "output_type": "stream",
     "text": [
      "TRAIN | Epoch: 4/5 | Iter: 819/819 | Error: 0/819 | Loss: 0.0516: 100%|\u001b[38;2;128;0;128m███████████████\u001b[0m| 819/819 [00:31<00:00, 25.77it/s]\u001b[0m\n"
     ]
    },
    {
     "name": "stdout",
     "output_type": "stream",
     "text": [
      "VALIDATION | Epoch: 4/5 | Loss: 0.0515 | Accuracy: 0.5350\n"
     ]
    },
    {
     "name": "stderr",
     "output_type": "stream",
     "text": [
      "TRAIN | Epoch: 5/5 | Iter: 819/819 | Error: 0/819 | Loss: 0.0515: 100%|\u001b[38;2;128;0;128m███████████████\u001b[0m| 819/819 [00:31<00:00, 25.89it/s]\u001b[0m\n"
     ]
    },
    {
     "name": "stdout",
     "output_type": "stream",
     "text": [
      "VALIDATION | Epoch: 5/5 | Loss: 0.0516 | Accuracy: 0.5371\n"
     ]
    }
   ],
   "source": [
    "best_Acc_RNN=0\n",
    "for epoch in range(epochs):\n",
    "    trainer.train(model_RNN, train_loader_sentiment, epoch, epochs, writer, criterion, optimizer_RNN, device)\n",
    "    val_loss, val_acc = trainer.validation(model_RNN, val_loader_sentiment, criterion, device)\n",
    "    print(f\"VALIDATION | Epoch: {epoch+1}/{epochs} | Loss: {val_loss:.4f} | Accuracy: {val_acc:.4f}\")\n",
    "    writer.add_scalar('Val/Loss', val_loss, epoch+1)\n",
    "    writer.add_scalar('Val/Acc', val_acc, epoch+1)\n",
    "    checkpoint = {\n",
    "        'model_state_dict': model_RNN.state_dict(),\n",
    "        'epoch': epoch+1,\n",
    "        'optimizer_state_dict': optimizer_RNN.state_dict()\n",
    "    }\n",
    "    os.makedirs('model/RNN', exist_ok=True)\n",
    "    torch.save(checkpoint, os.path.join('model/RNN', 'last.pt'))\n",
    "    if val_acc>best_Acc_RNN:\n",
    "        torch.save(checkpoint, os.path.join('model/RNN', 'best.pt'))\n",
    "        best_Acc_RNN=val_acc"
   ]
  },
  {
   "cell_type": "markdown",
   "id": "b7cbe32c-6dc0-4ab8-9918-7cc376d0af57",
   "metadata": {},
   "source": [
    "## GRU"
   ]
  },
  {
   "cell_type": "markdown",
   "id": "b9357a20-c597-412c-b26f-37a1594a6249",
   "metadata": {},
   "source": [
    "### Training"
   ]
  },
  {
   "cell_type": "code",
   "execution_count": 11,
   "id": "90797e72-9d1e-4023-bb93-5ce97469ac88",
   "metadata": {},
   "outputs": [
    {
     "name": "stdout",
     "output_type": "stream",
     "text": [
      "GRU(\n",
      "  (embedding): Embedding(5000, 128)\n",
      "  (gru): GRU(128, 64, num_layers=2, batch_first=True, dropout=0.2)\n",
      "  (dense1): Linear(in_features=64, out_features=64, bias=True)\n",
      "  (bn): BatchNorm1d(64, eps=1e-05, momentum=0.1, affine=True, track_running_stats=True)\n",
      "  (dropout): Dropout(p=0.2, inplace=False)\n",
      "  (dense2): Linear(in_features=64, out_features=3, bias=True)\n",
      ")\n"
     ]
    }
   ],
   "source": [
    "import torch\n",
    "import torch.nn as nn\n",
    "import torch.optim as optim\n",
    "from build_model.build_gru import *\n",
    "from torch.utils.tensorboard import SummaryWriter\n",
    "from training.trainer import *\n",
    "\n",
    "device=torch.device('cuda' if torch.cuda.is_available() else 'cpu')\n",
    "model_GRU=GRU(vocab_size=5000, embedding_dim=128, num_layers=2, activation=None, batch_normalization=True, bidirectional=False).to(device)\n",
    "criterion=nn.CrossEntropyLoss()\n",
    "optimizer_GRU=optim.Adam(model_GRU.parameters(), lr=0.001)\n",
    "epochs=5\n",
    "trainer=trainer()\n",
    "log_dir='logs/GRU'\n",
    "if os.path.exists(log_dir):\n",
    "    shutil.rmtree(log_dir)\n",
    "writer = SummaryWriter(log_dir=log_dir)\n",
    "print(model_GRU)"
   ]
  },
  {
   "cell_type": "code",
   "execution_count": 51,
   "id": "ea76b24d-c857-475c-b965-0c0985e1fff9",
   "metadata": {},
   "outputs": [
    {
     "name": "stderr",
     "output_type": "stream",
     "text": [
      "TRAIN | Epoch: 1/5 | Iter: 819/819 | Error: 0/819 | Loss: 0.0323: 100%|\u001b[38;2;128;0;128m███████████████\u001b[0m| 819/819 [00:42<00:00, 19.17it/s]\u001b[0m\n"
     ]
    },
    {
     "name": "stdout",
     "output_type": "stream",
     "text": [
      "TEST | Epoch: 1/5 | Loss: 0.0221 | Accuracy: 0.8874\n"
     ]
    },
    {
     "name": "stderr",
     "output_type": "stream",
     "text": [
      "TRAIN | Epoch: 2/5 | Iter: 819/819 | Error: 0/819 | Loss: 0.0192: 100%|\u001b[38;2;128;0;128m███████████████\u001b[0m| 819/819 [00:46<00:00, 17.44it/s]\u001b[0m\n"
     ]
    },
    {
     "name": "stdout",
     "output_type": "stream",
     "text": [
      "TEST | Epoch: 2/5 | Loss: 0.0163 | Accuracy: 0.9203\n"
     ]
    },
    {
     "name": "stderr",
     "output_type": "stream",
     "text": [
      "TRAIN | Epoch: 3/5 | Iter: 819/819 | Error: 0/819 | Loss: 0.0152: 100%|\u001b[38;2;128;0;128m███████████████\u001b[0m| 819/819 [00:45<00:00, 17.96it/s]\u001b[0m\n"
     ]
    },
    {
     "name": "stdout",
     "output_type": "stream",
     "text": [
      "TEST | Epoch: 3/5 | Loss: 0.0157 | Accuracy: 0.9217\n"
     ]
    },
    {
     "name": "stderr",
     "output_type": "stream",
     "text": [
      "TRAIN | Epoch: 4/5 | Iter: 819/819 | Error: 0/819 | Loss: 0.0121: 100%|\u001b[38;2;128;0;128m███████████████\u001b[0m| 819/819 [00:47<00:00, 17.22it/s]\u001b[0m\n"
     ]
    },
    {
     "name": "stdout",
     "output_type": "stream",
     "text": [
      "TEST | Epoch: 4/5 | Loss: 0.0170 | Accuracy: 0.9183\n"
     ]
    },
    {
     "name": "stderr",
     "output_type": "stream",
     "text": [
      "TRAIN | Epoch: 5/5 | Iter: 819/819 | Error: 0/819 | Loss: 0.0097: 100%|\u001b[38;2;128;0;128m███████████████\u001b[0m| 819/819 [00:46<00:00, 17.79it/s]\u001b[0m\n"
     ]
    },
    {
     "name": "stdout",
     "output_type": "stream",
     "text": [
      "TEST | Epoch: 5/5 | Loss: 0.0197 | Accuracy: 0.9196\n"
     ]
    }
   ],
   "source": [
    "best_acc=0\n",
    "for epoch in range(epochs):\n",
    "    trainer.train(model_GRU, train_loader_sentiment, epoch, epochs, writer, criterion, optimizer_GRU, device)\n",
    "    val_loss, val_acc = trainer.validation(model_GRU, val_loader_sentiment, criterion, device)\n",
    "    print(f\"TEST | Epoch: {epoch+1}/{epochs} | Loss: {val_loss:.4f} | Accuracy: {val_acc:.4f}\")\n",
    "    writer.add_scalar('Val/Loss', val_loss, epoch+1)\n",
    "    writer.add_scalar('Val/Acc', val_acc, epoch+1)\n",
    "    checkpoint = {\n",
    "        'model_state_dict': model_GRU.state_dict(),\n",
    "        'epoch': epoch+1,\n",
    "        'opimizer_state_dict': optimizer.state_dict(),\n",
    "    }\n",
    "    os.makedirs('model/GRU', exist_ok=True)\n",
    "    torch.save(checkpoint, os.path.join('model/GRU','last.pt'))\n",
    "    if val_acc>best_acc:\n",
    "        torch.save(checkpoint, os.path.join('model/GRU','best.pt'))\n",
    "        best_acc=val_acc"
   ]
  },
  {
   "cell_type": "markdown",
   "id": "93b2b080-96bc-45e4-b5df-a021cea41469",
   "metadata": {},
   "source": [
    "### Evaluate\n"
   ]
  },
  {
   "cell_type": "code",
   "execution_count": 12,
   "id": "b761e16d-93ef-482e-b0d6-3919f9cf38d4",
   "metadata": {},
   "outputs": [
    {
     "data": {
      "text/plain": [
       "0.9122373300370828"
      ]
     },
     "execution_count": 12,
     "metadata": {},
     "output_type": "execute_result"
    }
   ],
   "source": [
    "model_state_dict=torch.load('model/GRU/best.pt', map_location=device)\n",
    "model_GRU.load_state_dict(model_state_dict['model_state_dict'])\n",
    "test_loss, test_acc = trainer.validation(model_GRU, test_loader_sentiment, criterion, device)\n",
    "test_acc"
   ]
  },
  {
   "cell_type": "code",
   "execution_count": 15,
   "id": "3adbb382-8665-4858-a110-045df3d2482f",
   "metadata": {},
   "outputs": [],
   "source": [
    "pred, true=evaluate(model_GRU, test_loader_sentiment, device)"
   ]
  },
  {
   "cell_type": "code",
   "execution_count": 17,
   "id": "2f1473cb-b354-46f8-8180-dc297dd853fa",
   "metadata": {},
   "outputs": [],
   "source": [
    "report = classification_report(pred, true, output_dict=True)"
   ]
  },
  {
   "cell_type": "code",
   "execution_count": 19,
   "id": "d58246f6-5eed-4441-90ed-2784a096b313",
   "metadata": {},
   "outputs": [],
   "source": [
    "report_df=pd.DataFrame(report).transpose().reset_index()"
   ]
  },
  {
   "cell_type": "code",
   "execution_count": 25,
   "id": "0ce54817-90c0-4bb2-b528-30c379ad1709",
   "metadata": {},
   "outputs": [
    {
     "data": {
      "text/html": [
       "<div>\n",
       "<style scoped>\n",
       "    .dataframe tbody tr th:only-of-type {\n",
       "        vertical-align: middle;\n",
       "    }\n",
       "\n",
       "    .dataframe tbody tr th {\n",
       "        vertical-align: top;\n",
       "    }\n",
       "\n",
       "    .dataframe thead th {\n",
       "        text-align: right;\n",
       "    }\n",
       "</style>\n",
       "<table border=\"1\" class=\"dataframe\">\n",
       "  <thead>\n",
       "    <tr style=\"text-align: right;\">\n",
       "      <th></th>\n",
       "      <th>index</th>\n",
       "      <th>precision</th>\n",
       "      <th>recall</th>\n",
       "      <th>f1-score</th>\n",
       "      <th>support</th>\n",
       "    </tr>\n",
       "  </thead>\n",
       "  <tbody>\n",
       "    <tr>\n",
       "      <th>0</th>\n",
       "      <td>0</td>\n",
       "      <td>0.938420</td>\n",
       "      <td>0.910390</td>\n",
       "      <td>0.924192</td>\n",
       "      <td>770.000000</td>\n",
       "    </tr>\n",
       "    <tr>\n",
       "      <th>1</th>\n",
       "      <td>1</td>\n",
       "      <td>0.361111</td>\n",
       "      <td>0.590909</td>\n",
       "      <td>0.448276</td>\n",
       "      <td>44.000000</td>\n",
       "    </tr>\n",
       "    <tr>\n",
       "      <th>2</th>\n",
       "      <td>2</td>\n",
       "      <td>0.937422</td>\n",
       "      <td>0.931592</td>\n",
       "      <td>0.934498</td>\n",
       "      <td>804.000000</td>\n",
       "    </tr>\n",
       "    <tr>\n",
       "      <th>3</th>\n",
       "      <td>accuracy</td>\n",
       "      <td>0.912237</td>\n",
       "      <td>0.912237</td>\n",
       "      <td>0.912237</td>\n",
       "      <td>0.912237</td>\n",
       "    </tr>\n",
       "    <tr>\n",
       "      <th>4</th>\n",
       "      <td>macro avg</td>\n",
       "      <td>0.745651</td>\n",
       "      <td>0.810964</td>\n",
       "      <td>0.768989</td>\n",
       "      <td>1618.000000</td>\n",
       "    </tr>\n",
       "    <tr>\n",
       "      <th>5</th>\n",
       "      <td>weighted avg</td>\n",
       "      <td>0.922225</td>\n",
       "      <td>0.912237</td>\n",
       "      <td>0.916371</td>\n",
       "      <td>1618.000000</td>\n",
       "    </tr>\n",
       "  </tbody>\n",
       "</table>\n",
       "</div>"
      ],
      "text/plain": [
       "          index  precision    recall  f1-score      support\n",
       "0             0   0.938420  0.910390  0.924192   770.000000\n",
       "1             1   0.361111  0.590909  0.448276    44.000000\n",
       "2             2   0.937422  0.931592  0.934498   804.000000\n",
       "3      accuracy   0.912237  0.912237  0.912237     0.912237\n",
       "4     macro avg   0.745651  0.810964  0.768989  1618.000000\n",
       "5  weighted avg   0.922225  0.912237  0.916371  1618.000000"
      ]
     },
     "execution_count": 25,
     "metadata": {},
     "output_type": "execute_result"
    }
   ],
   "source": [
    "report_df"
   ]
  },
  {
   "cell_type": "code",
   "execution_count": 26,
   "id": "c576e9ca-5542-4924-abe4-5e7a9713940e",
   "metadata": {},
   "outputs": [],
   "source": [
    "model_eval=report_df[report_df['index']=='weighted avg'][['precision','recall', 'f1-score']]"
   ]
  },
  {
   "cell_type": "code",
   "execution_count": 29,
   "id": "f5d0478d-114c-4390-ac22-a6103daed21e",
   "metadata": {},
   "outputs": [],
   "source": [
    "model_eval['accuracy']=accuracy_score(pred, true)"
   ]
  },
  {
   "cell_type": "code",
   "execution_count": 32,
   "id": "543d39b7-4d65-43e4-9bf7-f4d2bb3fe293",
   "metadata": {},
   "outputs": [
    {
     "data": {
      "text/html": [
       "<div>\n",
       "<style scoped>\n",
       "    .dataframe tbody tr th:only-of-type {\n",
       "        vertical-align: middle;\n",
       "    }\n",
       "\n",
       "    .dataframe tbody tr th {\n",
       "        vertical-align: top;\n",
       "    }\n",
       "\n",
       "    .dataframe thead th {\n",
       "        text-align: right;\n",
       "    }\n",
       "</style>\n",
       "<table border=\"1\" class=\"dataframe\">\n",
       "  <thead>\n",
       "    <tr style=\"text-align: right;\">\n",
       "      <th></th>\n",
       "      <th>precision</th>\n",
       "      <th>recall</th>\n",
       "      <th>f1-score</th>\n",
       "      <th>accuracy</th>\n",
       "    </tr>\n",
       "  </thead>\n",
       "  <tbody>\n",
       "    <tr>\n",
       "      <th>0</th>\n",
       "      <td>0.922225</td>\n",
       "      <td>0.912237</td>\n",
       "      <td>0.916371</td>\n",
       "      <td>0.912237</td>\n",
       "    </tr>\n",
       "  </tbody>\n",
       "</table>\n",
       "</div>"
      ],
      "text/plain": [
       "   precision    recall  f1-score  accuracy\n",
       "0   0.922225  0.912237  0.916371  0.912237"
      ]
     },
     "execution_count": 32,
     "metadata": {},
     "output_type": "execute_result"
    }
   ],
   "source": [
    "model_eval.reset_index(drop=True)"
   ]
  },
  {
   "cell_type": "code",
   "execution_count": 33,
   "id": "0e1ec28a-b87c-488b-b5e3-c3f04b7c288f",
   "metadata": {},
   "outputs": [
    {
     "data": {
      "text/plain": [
       "array([[701,  12,  34],\n",
       "       [ 25,  26,  21],\n",
       "       [ 44,   6, 749]], dtype=int64)"
      ]
     },
     "execution_count": 33,
     "metadata": {},
     "output_type": "execute_result"
    }
   ],
   "source": [
    "confusion_matrix(true, pred)"
   ]
  },
  {
   "cell_type": "code",
   "execution_count": 13,
   "id": "2305e059-d8e9-4ee1-9c8e-f59c221334ff",
   "metadata": {},
   "outputs": [
    {
     "data": {
      "text/plain": [
       "{'accuracy': 0.9122373300370828,\n",
       " 'precision': 0.9222247625342096,\n",
       " 'recall': 0.9122373300370828,\n",
       " 'f1-score': 0.9163711965710459,\n",
       " 'confusion_matrix': array([[701,  12,  34],\n",
       "        [ 25,  26,  21],\n",
       "        [ 44,   6, 749]], dtype=int64)}"
      ]
     },
     "execution_count": 13,
     "metadata": {},
     "output_type": "execute_result"
    }
   ],
   "source": [
    "result=trainer.evaluate(model_GRU, test_loader_sentiment, device)"
   ]
  },
  {
   "cell_type": "code",
   "execution_count": 17,
   "id": "ab4f04f3-fed5-4f07-a075-4fb3e6bc9731",
   "metadata": {},
   "outputs": [
    {
     "data": {
      "image/png": "[encoded data removed]",
      "text/plain": [
       "<Figure size 300x300 with 1 Axes>"
      ]
     },
     "metadata": {},
     "output_type": "display_data"
    }
   ],
   "source": [
    "import matplotlib.pyplot as plt\n",
    "import seaborn as sns\n",
    "import numpy as np\n",
    "\n",
    "# Ma trận nhầm lẫn\n",
    "cm = np.array([[701, 12, 34],\n",
    "               [25, 26, 21],\n",
    "               [44, 6, 749]])\n",
    "\n",
    "# Vẽ ma trận nhầm lẫn\n",
    "plt.figure(figsize=(3, 3))\n",
    "sns.heatmap(cm, annot=True, fmt='d', cmap='Blues', cbar=False)\n",
    "\n",
    "# Thêm tiêu đề và nhãn\n",
    "plt.title('Confusion Matrix', fontsize=16)\n",
    "plt.xlabel('Predicted Labels', fontsize=14)\n",
    "plt.ylabel('True Labels', fontsize=14)\n",
    "plt.xticks(ticks=[0.5, 1.5, 2.5], labels=['Class 0', 'Class 1', 'Class 2'])\n",
    "plt.yticks(ticks=[0.5, 1.5, 2.5], labels=['Class 0', 'Class 1', 'Class 2'])\n",
    "\n",
    "# Hiển thị đồ thị\n",
    "plt.tight_layout()\n",
    "plt.show()\n"
   ]
  },
  {
   "cell_type": "code",
   "execution_count": null,
   "id": "5459e32f-ed8a-485d-903a-6415d83a0e4b",
   "metadata": {},
   "outputs": [],
   "source": []
  }
 ],
 "metadata": {
  "kernelspec": {
   "display_name": "Python 3 (ipykernel)",
   "language": "python",
   "name": "python3"
  },
  "language_info": {
   "codemirror_mode": {
    "name": "ipython",
    "version": 3
   },
   "file_extension": ".py",
   "mimetype": "text/x-python",
   "name": "python",
   "nbconvert_exporter": "python",
   "pygments_lexer": "ipython3",
   "version": "3.11.5"
  }
 },
 "nbformat": 4,
 "nbformat_minor": 5
}
