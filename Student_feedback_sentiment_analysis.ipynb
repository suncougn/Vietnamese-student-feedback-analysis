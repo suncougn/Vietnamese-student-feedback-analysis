{
 "cells": [
  {
   "cell_type": "code",
   "execution_count": 2,
   "id": "9f56e306-37d4-48d6-9282-2f907883a352",
   "metadata": {},
   "outputs": [],
   "source": [
    "import numpy as np\n",
    "import pandas as pd\n",
    "import matplotlib.pyplot as plt\n",
    "import seaborn as sns\n",
    "from data_processor_pipeline.cleaner import *\n",
    "from data_processor_pipeline.custom_dataset import *\n",
    "from metrics.plot_confusion_matrix import plot_cfs_matrix\n",
    "from datasets import load_dataset\n",
    "import os\n",
    "import shutil\n",
    "\n",
    "import warnings\n",
    "warnings.filterwarnings('ignore')"
   ]
  },
  {
   "cell_type": "markdown",
   "id": "41beed1b-6904-402a-a5c0-4c313891d212",
   "metadata": {},
   "source": [
    "# Data_Preprocess"
   ]
  },
  {
   "cell_type": "markdown",
   "id": "61a2520f-e2a9-4578-8900-602d679b98e4",
   "metadata": {},
   "source": [
    "## Read data and cleaning"
   ]
  },
  {
   "cell_type": "code",
   "execution_count": 3,
   "id": "8524de17-c955-4fb2-9d83-ff06b600e2be",
   "metadata": {},
   "outputs": [],
   "source": [
    "data=pd.read_csv('vietnamese_student_feedbacks.csv', encoding='utf-8-sig')\n",
    "data_processor=data_clean()\n",
    "data['sentence']=data['sentence'].map(lambda x: data_processor.clean_text(x))"
   ]
  },
  {
   "cell_type": "markdown",
   "id": "ba3c8a72-ea4e-451a-ab73-e622278f80ac",
   "metadata": {
    "jp-MarkdownHeadingCollapsed": true
   },
   "source": [
    "## Multi processiong"
   ]
  },
  {
   "cell_type": "code",
   "execution_count": null,
   "id": "a79b4561-24bf-462e-bdff-6dd149410bcc",
   "metadata": {},
   "outputs": [],
   "source": [
    "from multiprocessing import Process, Manager\n",
    "\n",
    "# Function to test multiprocessing\n",
    "def test(indices):\n",
    "    print(indices)\n",
    "\n",
    "indices: list[int] = list(range(0, 20))\n",
    "n_proc = 8\n",
    "processes: list[Process] = []\n",
    "\n",
    "if __name__==\"__main__\":\n",
    "    with Manager() as manager:\n",
    "        indices = manager.list(indices)  # Shared list between processes\n",
    "        for idx in range(n_proc):\n",
    "            p = Process(target=test, args=(indices,))  # Pass the shared list to each process\n",
    "            processes.append(p)\n",
    "        \n",
    "        # Start all processes\n",
    "        for p in processes:\n",
    "            p.start()\n",
    "        \n",
    "        # Wait for all processes to complete\n",
    "        for p in processes:\n",
    "            p.join()\n"
   ]
  },
  {
   "cell_type": "code",
   "execution_count": null,
   "id": "6986d345-2ca4-439e-aeb3-9b6e27495358",
   "metadata": {},
   "outputs": [],
   "source": [
    "import pandas as pd\n",
    "from concurrent.futures import ThreadPoolExecutor\n",
    "import multiprocessing\n",
    "\n",
    "# Hàm thực hiện clean_text với đa luồng\n",
    "def apply_clean_text_parallel(df, column_name, clean_func):\n",
    "    # Số lượng luồng bằng số lõi CPU\n",
    "    num_threads = multiprocessing.cpu_count()\n",
    "    \n",
    "    with ThreadPoolExecutor(max_workers=num_threads) as executor:\n",
    "        df[column_name] = list(executor.map(clean_func, df['sentence']))\n",
    "    \n",
    "    return df\n",
    "df = apply_clean_text_parallel(data, 'cleaned', data_processor.clean_text)"
   ]
  },
  {
   "cell_type": "markdown",
   "id": "c87733b0-737e-498d-985e-45a34ebe2e97",
   "metadata": {},
   "source": [
    "## Train_validation_test"
   ]
  },
  {
   "cell_type": "code",
   "execution_count": 4,
   "id": "17dde437-bcbc-46ee-9aed-c541415ef349",
   "metadata": {},
   "outputs": [],
   "source": [
    "from sklearn.model_selection import train_test_split\n",
    "\n",
    "data['combined_label']=list(zip(data[\"sentiment\"], data['topic']))\n",
    "X_train, X_test, y_train, y_test = train_test_split(data['sentence'].reset_index(drop=True).to_list(),\n",
    "                                                    data['combined_label'].reset_index(drop=True).to_list(),\n",
    "                                                    test_size=0.1,\n",
    "                                                    stratify=data['topic'],\n",
    "                                                    random_state=42)\n",
    "X_train, X_val, y_train, y_val = train_test_split(X_train, y_train, test_size=0.1, random_state=42)"
   ]
  },
  {
   "cell_type": "code",
   "execution_count": 5,
   "id": "48957cef-6e3d-4b91-bb51-8d42bffb4e0c",
   "metadata": {},
   "outputs": [
    {
     "data": {
      "text/plain": [
       "(13101, 1456, 1618)"
      ]
     },
     "execution_count": 5,
     "metadata": {},
     "output_type": "execute_result"
    }
   ],
   "source": [
    "len(X_train), len(X_val), len(X_test)"
   ]
  },
  {
   "cell_type": "code",
   "execution_count": 6,
   "id": "22832ce3-f75a-4dd6-95b6-fefcb8caa0ce",
   "metadata": {},
   "outputs": [],
   "source": [
    "y_train_sentiment, y_train_topic = zip(*y_train)\n",
    "y_val_sentiment, y_val_topic = zip(*y_val)\n",
    "y_test_sentiment, y_test_topic = zip(*y_test)"
   ]
  },
  {
   "cell_type": "markdown",
   "id": "926c057c-5dec-4830-a176-d08774d29337",
   "metadata": {
    "jp-MarkdownHeadingCollapsed": true
   },
   "source": [
    "## Resampled"
   ]
  },
  {
   "cell_type": "code",
   "execution_count": null,
   "id": "bb492d1f-aa83-481a-8377-04fddf934ad3",
   "metadata": {},
   "outputs": [],
   "source": [
    "df_y_train_sentiment = pd.DataFrame(y_train_sentiment, columns=['y_train_sentiment'])"
   ]
  },
  {
   "cell_type": "code",
   "execution_count": null,
   "id": "555043e7-3da5-4235-adec-bacfab94fb8f",
   "metadata": {},
   "outputs": [],
   "source": [
    "from sklearn.utils import resample\n",
    "\n",
    "# Separate neutral comments\n",
    "neutral_indices = df_y_train_sentiment[df_y_train_sentiment['y_train_sentiment']==1].to_numpy().flatten()\n",
    "oversample_size = df_y_train_sentiment[df_y_train_sentiment['y_train_sentiment']==0].shape[0] - len(neutral_indices)\n",
    "\n",
    "# Over-sample the neutral comments\n",
    "oversampled_neutral_indices = resample(neutral_indices,\n",
    "                                       replace=True,\n",
    "                                       n_samples=oversample_size)\n",
    "\n",
    "# Combine the original sentences and labels with the oversampled data\n",
    "oversampled_neutral_sentences = np.array(X_train)[oversampled_neutral_indices]\n",
    "\n",
    "train_sentences_oversampled = np.concatenate([X_train, oversampled_neutral_sentences], axis=0)\n",
    "train_labels_oversampled = np.concatenate([y_train_sentiment, np.array([1] * oversample_size)], axis=0)"
   ]
  },
  {
   "cell_type": "code",
   "execution_count": null,
   "id": "ca4fe64e-4341-4637-8f56-2bd5abd3ae9d",
   "metadata": {},
   "outputs": [],
   "source": [
    "oversampled_neutral_sentences = np.array(X_train)[oversampled_neutral_indices]\n",
    "\n",
    "train_sentences_oversampled = np.concatenate([X_train, oversampled_neutral_sentences], axis=0)\n",
    "train_labels_oversampled = pd.Series(train_labels_oversampled)"
   ]
  },
  {
   "cell_type": "markdown",
   "id": "6720604f-86a0-4f08-a56d-a297b4a8c2ba",
   "metadata": {},
   "source": [
    "## Create dataLoader"
   ]
  },
  {
   "cell_type": "markdown",
   "id": "b0a6597c-68cf-4845-9984-2e974f0efd01",
   "metadata": {},
   "source": [
    "## Sentiment"
   ]
  },
  {
   "cell_type": "code",
   "execution_count": 7,
   "id": "e8423db2-b5c6-4b33-a3a0-d89d55b3f8fa",
   "metadata": {},
   "outputs": [],
   "source": [
    "train_dataset_sentiment=Custom_Dataset(X_train, torch.tensor(y_train_sentiment, dtype=torch.long), file_path='vocab.pkl', is_save_vocab=False)\n",
    "val_dataset_sentiment=Custom_Dataset(X_val, y_val_sentiment, file_path='vocab.pkl', is_save_vocab=False, max_length=train_dataset_sentiment.max_length)\n",
    "test_dataset_sentiment=Custom_Dataset(X_test, y_test_sentiment, file_path='vocab.pkl', is_save_vocab=False, max_length=train_dataset_sentiment.max_length)"
   ]
  },
  {
   "cell_type": "code",
   "execution_count": 8,
   "id": "b29ae088-4342-4931-ba96-7779ac003f34",
   "metadata": {},
   "outputs": [],
   "source": [
    "train_loader_sentiment=DataLoader(train_dataset_sentiment, batch_size=16, shuffle=True)\n",
    "val_loader_sentiment=DataLoader(val_dataset_sentiment, batch_size=16, shuffle=True)\n",
    "test_loader_sentiment=DataLoader(test_dataset_sentiment, batch_size=16, shuffle=True)"
   ]
  },
  {
   "cell_type": "markdown",
   "id": "950e4751-dbb7-4150-9997-29df4b99f861",
   "metadata": {},
   "source": [
    "# DL_model for sentiment classification"
   ]
  },
  {
   "cell_type": "markdown",
   "id": "05435a2e-e6eb-4e59-b17d-6749b8dc41bb",
   "metadata": {},
   "source": [
    "## RNN"
   ]
  },
  {
   "cell_type": "markdown",
   "id": "c71fd1eb-e1ab-4b82-bd18-3c670384b53d",
   "metadata": {},
   "source": [
    "### Training"
   ]
  },
  {
   "cell_type": "code",
   "execution_count": null,
   "id": "199e7341-6331-4278-90e8-c7e62f7aa98f",
   "metadata": {},
   "outputs": [],
   "source": [
    "import torch\n",
    "import torch.nn as nn\n",
    "import torch.optim as optim\n",
    "from build_model.build_rnn import *\n",
    "from torch.utils.tensorboard import SummaryWriter\n",
    "from training.trainer import *"
   ]
  },
  {
   "cell_type": "code",
   "execution_count": null,
   "id": "6672101d-b191-40e7-be2d-2c3eadf7aee6",
   "metadata": {},
   "outputs": [
    {
     "name": "stdout",
     "output_type": "stream",
     "text": [
      "RNN(\n",
      "  (embedding): Embedding(5000, 128)\n",
      "  (rnn): RNN(128, 64, dropout=0.2)\n",
      "  (dense1): Linear(in_features=64, out_features=64, bias=True)\n",
      "  (bn): BatchNorm1d(64, eps=1e-05, momentum=0.1, affine=True, track_running_stats=True)\n",
      "  (activation): ReLU()\n",
      "  (dropout): Dropout(p=0.2, inplace=False)\n",
      "  (dense2): Linear(in_features=64, out_features=3, bias=True)\n",
      ")\n"
     ]
    }
   ],
   "source": [
    "device=torch.device('cuda' if torch.cuda.is_available() else 'cpu')\n",
    "model_RNN=RNN(vocab_size=5000, embedding_dim=128, num_layers=1, activation=nn.ReLU(), batch_normalization=True, bidirectional=False).to(device)\n",
    "criterion=nn.CrossEntropyLoss()\n",
    "optimizer_RNN=optim.Adam(model_RNN.parameters(), lr=0.01)\n",
    "epochs=5\n",
    "trainer=trainer()\n",
    "log_dir='logs/RNN'\n",
    "if os.path.exists(log_dir):\n",
    "    shutil.rmtree(log_dir)\n",
    "writer=SummaryWriter(log_dir='logs/RNN')\n",
    "print(model_RNN)"
   ]
  },
  {
   "cell_type": "code",
   "execution_count": null,
   "id": "3b58711b-53fc-4bec-b616-2807a5bb805b",
   "metadata": {},
   "outputs": [
    {
     "name": "stderr",
     "output_type": "stream",
     "text": [
      "TRAIN | Epoch: 1/5 | Iter: 819/819 | Error: 0/819 | Loss: 0.0532: 100%|\u001b[38;2;128;0;128m███████████████\u001b[0m| 819/819 [00:22<00:00, 36.90it/s]\u001b[0m\n"
     ]
    },
    {
     "name": "stdout",
     "output_type": "stream",
     "text": [
      "VALIDATION | Epoch: 1/5 | Loss: 0.0541 | Accuracy: 0.4615\n"
     ]
    },
    {
     "name": "stderr",
     "output_type": "stream",
     "text": [
      "TRAIN | Epoch: 2/5 | Iter: 819/819 | Error: 0/819 | Loss: 0.0521: 100%|\u001b[38;2;128;0;128m███████████████\u001b[0m| 819/819 [00:20<00:00, 40.02it/s]\u001b[0m\n"
     ]
    },
    {
     "name": "stdout",
     "output_type": "stream",
     "text": [
      "VALIDATION | Epoch: 2/5 | Loss: 0.0517 | Accuracy: 0.5350\n"
     ]
    },
    {
     "name": "stderr",
     "output_type": "stream",
     "text": [
      "TRAIN | Epoch: 3/5 | Iter: 819/819 | Error: 0/819 | Loss: 0.0517: 100%|\u001b[38;2;128;0;128m███████████████\u001b[0m| 819/819 [00:22<00:00, 36.71it/s]\u001b[0m\n"
     ]
    },
    {
     "name": "stdout",
     "output_type": "stream",
     "text": [
      "VALIDATION | Epoch: 3/5 | Loss: 0.0518 | Accuracy: 0.5337\n"
     ]
    },
    {
     "name": "stderr",
     "output_type": "stream",
     "text": [
      "TRAIN | Epoch: 4/5 | Iter: 819/819 | Error: 0/819 | Loss: 0.0515: 100%|\u001b[38;2;128;0;128m███████████████\u001b[0m| 819/819 [00:20<00:00, 40.16it/s]\u001b[0m\n"
     ]
    },
    {
     "name": "stdout",
     "output_type": "stream",
     "text": [
      "VALIDATION | Epoch: 4/5 | Loss: 0.0519 | Accuracy: 0.5330\n"
     ]
    },
    {
     "name": "stderr",
     "output_type": "stream",
     "text": [
      "TRAIN | Epoch: 5/5 | Iter: 819/819 | Error: 0/819 | Loss: 0.0513: 100%|\u001b[38;2;128;0;128m███████████████\u001b[0m| 819/819 [00:20<00:00, 40.63it/s]\u001b[0m\n"
     ]
    },
    {
     "name": "stdout",
     "output_type": "stream",
     "text": [
      "VALIDATION | Epoch: 5/5 | Loss: 0.0517 | Accuracy: 0.5357\n"
     ]
    }
   ],
   "source": [
    "best_Acc_RNN=0\n",
    "for epoch in range(epochs):\n",
    "    trainer.train(model_RNN, train_loader_sentiment, epoch, epochs, writer, criterion, optimizer_RNN, device)\n",
    "    val_loss, val_acc = trainer.validation(model_RNN, val_loader_sentiment, criterion, device)\n",
    "    print(f\"VALIDATION | Epoch: {epoch+1}/{epochs} | Loss: {val_loss:.4f} | Accuracy: {val_acc:.4f}\")\n",
    "    writer.add_scalar('Val/Loss', val_loss, epoch+1)\n",
    "    writer.add_scalar('Val/Acc', val_acc, epoch+1)\n",
    "    checkpoint = {\n",
    "        'model_state_dict': model_RNN.state_dict(),\n",
    "        'epoch': epoch+1,\n",
    "        'optimizer_state_dict': optimizer_RNN.state_dict()\n",
    "    }\n",
    "    os.makedirs('model/RNN', exist_ok=True)\n",
    "    torch.save(checkpoint, os.path.join('model/RNN', 'last.pt'))\n",
    "    if val_acc>best_Acc_RNN:\n",
    "        torch.save(checkpoint, os.path.join('model/RNN', 'best.pt'))\n",
    "        best_Acc_RNN=val_acc"
   ]
  },
  {
   "cell_type": "markdown",
   "id": "745e2170-d840-4006-8a12-ed08807edbff",
   "metadata": {},
   "source": [
    "## Evaluate"
   ]
  },
  {
   "cell_type": "code",
   "execution_count": null,
   "id": "7bc5d30a-53dd-4de5-bc5a-66ddae340dce",
   "metadata": {},
   "outputs": [
    {
     "data": {
      "text/plain": [
       "{'accuracy': 0.5290482076637825,\n",
       " 'precision': 0.9336638944854555,\n",
       " 'recall': 0.5290482076637825,\n",
       " 'f1-score': 0.6466456879865078,\n",
       " 'confusion_matrix': array([[ 71,   0, 676],\n",
       "        [  4,   0,  68],\n",
       "        [ 14,   0, 785]], dtype=int64)}"
      ]
     },
     "execution_count": 14,
     "metadata": {},
     "output_type": "execute_result"
    }
   ],
   "source": [
    "result_RNN_on_test=trainer.evaluate(model_RNN, test_loader_sentiment, device=torch.device('cuda' if torch.cuda.is_available() else 'cpu'))\n",
    "result_RNN_on_test"
   ]
  },
  {
   "cell_type": "markdown",
   "id": "0a811da2-4804-4d70-8d49-ff20aa6fa768",
   "metadata": {},
   "source": [
    "## LSTM"
   ]
  },
  {
   "cell_type": "code",
   "execution_count": null,
   "id": "6896a963-84da-4309-96cd-70f01ddcd44d",
   "metadata": {},
   "outputs": [],
   "source": [
    "import torch\n",
    "import torch. nn as nn\n",
    "import torch.optim as optim\n",
    "\n",
    "from build_model.build_lstm import *\n",
    "from torch.utils.tensorboard import SummaryWriter\n",
    "from training.trainer import *\n",
    "import os"
   ]
  },
  {
   "cell_type": "code",
   "execution_count": null,
   "id": "7ce92d6d-202e-4e1a-9629-82a196b3f04c",
   "metadata": {},
   "outputs": [],
   "source": [
    "device = torch.device('cuda' if torch.cuda.is_available() else 'cpu')\n",
    "model_LSTM=LSTM(vocab_size=5000, embedding_dim=128, num_layers=2, activation=None, batch_normalization=True, bidirectional=False,output_dim=3).to(device)\n",
    "criterion = nn.CrossEntropyLoss()\n",
    "optimizer_LSTM = optim.Adam(model_LSTM.parameters(), lr=0.001)\n",
    "trainer = trainer()\n",
    "log_dir = 'logs/RNN'\n",
    "if os.path.exists(log_dir):\n",
    "    shutil.rmtree(log_dir)\n",
    "writer = SummaryWriter(log_dir=log_dir)\n",
    "print(model_LSTM)"
   ]
  },
  {
   "cell_type": "code",
   "execution_count": null,
   "id": "84477fe1",
   "metadata": {},
   "outputs": [
    {
     "name": "stderr",
     "output_type": "stream",
     "text": [
      "TRAIN | Epoch: 1/5 | Iter: 819/819 | Error: 0/819 | Loss: 0.0348: 100%|\u001b[38;2;128;0;128m███████████████\u001b[0m| 819/819 [00:29<00:00, 27.46it/s]\u001b[0m\n"
     ]
    },
    {
     "name": "stdout",
     "output_type": "stream",
     "text": [
      "TEST | Epoch: 1/5 | Loss: 0.0230 | Accuracy: 0.8826\n"
     ]
    },
    {
     "name": "stderr",
     "output_type": "stream",
     "text": [
      "TRAIN | Epoch: 2/5 | Iter: 819/819 | Error: 0/819 | Loss: 0.0204: 100%|\u001b[38;2;128;0;128m███████████████\u001b[0m| 819/819 [00:39<00:00, 20.70it/s]\u001b[0m\n"
     ]
    },
    {
     "name": "stdout",
     "output_type": "stream",
     "text": [
      "TEST | Epoch: 2/5 | Loss: 0.0174 | Accuracy: 0.9100\n"
     ]
    },
    {
     "name": "stderr",
     "output_type": "stream",
     "text": [
      "TRAIN | Epoch: 3/5 | Iter: 819/819 | Error: 0/819 | Loss: 0.0162: 100%|\u001b[38;2;128;0;128m███████████████\u001b[0m| 819/819 [00:33<00:00, 24.18it/s]\u001b[0m\n"
     ]
    },
    {
     "name": "stdout",
     "output_type": "stream",
     "text": [
      "TEST | Epoch: 3/5 | Loss: 0.0169 | Accuracy: 0.9148\n"
     ]
    },
    {
     "name": "stderr",
     "output_type": "stream",
     "text": [
      "TRAIN | Epoch: 4/5 | Iter: 819/819 | Error: 0/819 | Loss: 0.0138: 100%|\u001b[38;2;128;0;128m███████████████\u001b[0m| 819/819 [00:32<00:00, 25.48it/s]\u001b[0m\n"
     ]
    },
    {
     "name": "stdout",
     "output_type": "stream",
     "text": [
      "TEST | Epoch: 4/5 | Loss: 0.0203 | Accuracy: 0.9059\n"
     ]
    },
    {
     "name": "stderr",
     "output_type": "stream",
     "text": [
      "TRAIN | Epoch: 5/5 | Iter: 819/819 | Error: 0/819 | Loss: 0.0112: 100%|\u001b[38;2;128;0;128m███████████████\u001b[0m| 819/819 [00:31<00:00, 25.63it/s]\u001b[0m\n"
     ]
    },
    {
     "name": "stdout",
     "output_type": "stream",
     "text": [
      "TEST | Epoch: 5/5 | Loss: 0.0179 | Accuracy: 0.9135\n"
     ]
    }
   ],
   "source": [
    "epochs=5\n",
    "best_acc=0\n",
    "for epoch in range(epochs):\n",
    "    trainer.train(model_LSTM, train_loader_sentiment, epoch, epochs, writer, criterion, optimizer_LSTM, device)\n",
    "    val_loss, val_acc = trainer.validation(model_LSTM, val_loader_sentiment, criterion, device)\n",
    "    print(f\"TEST | Epoch: {epoch+1}/{epochs} | Loss: {val_loss:.4f} | Accuracy: {val_acc:.4f}\")\n",
    "    writer.add_scalar('Val/Loss', val_loss, epoch+1)\n",
    "    writer.add_scalar('Val/Acc', val_acc, epoch+1)\n",
    "    checkpoint = {\n",
    "        'model_state_dict': model_LSTM.state_dict(),\n",
    "        'epoch': epoch+1,\n",
    "        'opimizer_state_dict': optimizer_LSTM.state_dict(),\n",
    "    }\n",
    "    os.makedirs('model/LSTM', exist_ok=True)\n",
    "    torch.save(checkpoint, os.path.join('model/LSTM','last.pt'))\n",
    "    if val_acc>best_acc:\n",
    "        torch.save(checkpoint, os.path.join('model/LSTM','best.pt'))\n",
    "        best_acc=val_acc"
   ]
  },
  {
   "cell_type": "code",
   "execution_count": null,
   "id": "0c2033e7",
   "metadata": {},
   "outputs": [
    {
     "data": {
      "text/plain": [
       "{'accuracy': 0.9023485784919654,\n",
       " 'precision': 0.9016187811436869,\n",
       " 'recall': 0.9023485784919654,\n",
       " 'f1-score': 0.9018738644200714,\n",
       " 'confusion_matrix': array([[693,  22,  32],\n",
       "        [ 22,  34,  16],\n",
       "        [ 47,  19, 733]], dtype=int64)}"
      ]
     },
     "execution_count": 15,
     "metadata": {},
     "output_type": "execute_result"
    }
   ],
   "source": [
    "result_LSTM_on_test=trainer.evaluate(model_LSTM, test_loader_sentiment, device=torch.device('cuda' if torch.cuda.is_available() else 'cpu'))\n",
    "result_LSTM_on_test"
   ]
  },
  {
   "cell_type": "markdown",
   "id": "ce4a1bb8",
   "metadata": {},
   "source": [
    "## BiLSTM"
   ]
  },
  {
   "cell_type": "code",
   "execution_count": null,
   "id": "e9826f07",
   "metadata": {},
   "outputs": [],
   "source": [
    "import torch\n",
    "import torch. nn as nn\n",
    "import torch.optim as optim\n",
    "\n",
    "from build_model.build_lstm import *\n",
    "from torch.utils.tensorboard import SummaryWriter\n",
    "from training.trainer import *\n",
    "import os"
   ]
  },
  {
   "cell_type": "code",
   "execution_count": null,
   "id": "2ef0bba2",
   "metadata": {},
   "outputs": [
    {
     "ename": "TypeError",
     "evalue": "'trainer' object is not callable",
     "output_type": "error",
     "traceback": [
      "\u001b[1;31m---------------------------------------------------------------------------\u001b[0m",
      "\u001b[1;31mTypeError\u001b[0m                                 Traceback (most recent call last)",
      "Cell \u001b[1;32mIn[19], line 5\u001b[0m\n\u001b[0;32m      3\u001b[0m criterion \u001b[38;5;241m=\u001b[39m nn\u001b[38;5;241m.\u001b[39mCrossEntropyLoss()\n\u001b[0;32m      4\u001b[0m optimizer_BiLSTM \u001b[38;5;241m=\u001b[39m optim\u001b[38;5;241m.\u001b[39mAdam(model_BiLSTM\u001b[38;5;241m.\u001b[39mparameters(), lr\u001b[38;5;241m=\u001b[39m\u001b[38;5;241m0.001\u001b[39m)\n\u001b[1;32m----> 5\u001b[0m trainer \u001b[38;5;241m=\u001b[39m \u001b[43mtrainer\u001b[49m\u001b[43m(\u001b[49m\u001b[43m)\u001b[49m\n\u001b[0;32m      6\u001b[0m log_dir \u001b[38;5;241m=\u001b[39m \u001b[38;5;124m'\u001b[39m\u001b[38;5;124mlogs/RNN\u001b[39m\u001b[38;5;124m'\u001b[39m\n\u001b[0;32m      7\u001b[0m \u001b[38;5;28;01mif\u001b[39;00m os\u001b[38;5;241m.\u001b[39mpath\u001b[38;5;241m.\u001b[39mexists(log_dir):\n",
      "\u001b[1;31mTypeError\u001b[0m: 'trainer' object is not callable"
     ]
    }
   ],
   "source": [
    "device = torch.device('cuda' if torch.cuda.is_available() else 'cpu')\n",
    "model_BiLSTM=LSTM(vocab_size=5000, embedding_dim=128, num_layers=2, activation=None, batch_normalization=True, bidirectional=True,output_dim=3).to(device)\n",
    "criterion = nn.CrossEntropyLoss()\n",
    "optimizer_BiLSTM = optim.Adam(model_BiLSTM.parameters(), lr=0.001)\n",
    "trainer = trainer()\n",
    "log_dir = 'logs/RNN'\n",
    "if os.path.exists(log_dir):\n",
    "    shutil.rmtree(log_dir)\n",
    "writer = SummaryWriter(log_dir=log_dir)\n",
    "print(model_BiLSTM)"
   ]
  },
  {
   "cell_type": "code",
   "execution_count": null,
   "id": "ac275b69",
   "metadata": {},
   "outputs": [
    {
     "name": "stderr",
     "output_type": "stream",
     "text": [
      "  0%|\u001b[38;2;128;0;128m                                                                                           \u001b[0m| 0/819 [00:00<?, ?it/s]\u001b[0m"
     ]
    },
    {
     "name": "stderr",
     "output_type": "stream",
     "text": [
      "TRAIN | Epoch: 1/5 | Iter: 819/819 | Error: 0/819 | Loss: 0.0329: 100%|\u001b[38;2;128;0;128m███████████████\u001b[0m| 819/819 [00:40<00:00, 20.30it/s]\u001b[0m\n"
     ]
    },
    {
     "name": "stdout",
     "output_type": "stream",
     "text": [
      "TEST | Epoch: 1/5 | Loss: 0.0202 | Accuracy: 0.8990\n"
     ]
    },
    {
     "name": "stderr",
     "output_type": "stream",
     "text": [
      "TRAIN | Epoch: 2/5 | Iter: 819/819 | Error: 0/819 | Loss: 0.0200: 100%|\u001b[38;2;128;0;128m███████████████\u001b[0m| 819/819 [00:46<00:00, 17.61it/s]\u001b[0m\n"
     ]
    },
    {
     "name": "stdout",
     "output_type": "stream",
     "text": [
      "TEST | Epoch: 2/5 | Loss: 0.0192 | Accuracy: 0.9073\n"
     ]
    },
    {
     "name": "stderr",
     "output_type": "stream",
     "text": [
      "TRAIN | Epoch: 3/5 | Iter: 819/819 | Error: 0/819 | Loss: 0.0161: 100%|\u001b[38;2;128;0;128m███████████████\u001b[0m| 819/819 [00:50<00:00, 16.09it/s]\u001b[0m\n"
     ]
    },
    {
     "name": "stdout",
     "output_type": "stream",
     "text": [
      "TEST | Epoch: 3/5 | Loss: 0.0168 | Accuracy: 0.9114\n"
     ]
    },
    {
     "name": "stderr",
     "output_type": "stream",
     "text": [
      "TRAIN | Epoch: 4/5 | Iter: 819/819 | Error: 0/819 | Loss: 0.0123: 100%|\u001b[38;2;128;0;128m███████████████\u001b[0m| 819/819 [00:46<00:00, 17.65it/s]\u001b[0m\n"
     ]
    },
    {
     "name": "stdout",
     "output_type": "stream",
     "text": [
      "TEST | Epoch: 4/5 | Loss: 0.0177 | Accuracy: 0.9162\n"
     ]
    },
    {
     "name": "stderr",
     "output_type": "stream",
     "text": [
      "TRAIN | Epoch: 5/5 | Iter: 819/819 | Error: 0/819 | Loss: 0.0100: 100%|\u001b[38;2;128;0;128m███████████████\u001b[0m| 819/819 [00:41<00:00, 19.66it/s]\u001b[0m\n"
     ]
    },
    {
     "name": "stdout",
     "output_type": "stream",
     "text": [
      "TEST | Epoch: 5/5 | Loss: 0.0186 | Accuracy: 0.9128\n"
     ]
    }
   ],
   "source": [
    "epochs=5\n",
    "best_acc=0\n",
    "for epoch in range(epochs):\n",
    "    trainer.train(model_BiLSTM, train_loader_sentiment, epoch, epochs, writer, criterion, optimizer_BiLSTM, device)\n",
    "    val_loss, val_acc = trainer.validation(model_BiLSTM, val_loader_sentiment, criterion, device)\n",
    "    print(f\"TEST | Epoch: {epoch+1}/{epochs} | Loss: {val_loss:.4f} | Accuracy: {val_acc:.4f}\")\n",
    "    writer.add_scalar('Val/Loss', val_loss, epoch+1)\n",
    "    writer.add_scalar('Val/Acc', val_acc, epoch+1)\n",
    "    checkpoint = {\n",
    "        'model_state_dict': model_BiLSTM.state_dict(),\n",
    "        'epoch': epoch+1,\n",
    "        'opimizer_state_dict': optimizer_BiLSTM.state_dict(),\n",
    "    }\n",
    "    os.makedirs('model/BiLSTM', exist_ok=True)\n",
    "    torch.save(checkpoint, os.path.join('model/BiLSTM','last.pt'))\n",
    "    if val_acc>best_acc:\n",
    "        torch.save(checkpoint, os.path.join('model/BiLSTM','best.pt'))\n",
    "        best_acc=val_acc"
   ]
  },
  {
   "cell_type": "code",
   "execution_count": null,
   "id": "3d8b4e79",
   "metadata": {},
   "outputs": [
    {
     "data": {
      "text/plain": [
       "{'accuracy': 0.9054388133498146,\n",
       " 'precision': 0.9102988977402795,\n",
       " 'recall': 0.9054388133498146,\n",
       " 'f1-score': 0.9076282818423385,\n",
       " 'confusion_matrix': array([[690,  18,  39],\n",
       "        [ 24,  29,  19],\n",
       "        [ 43,  10, 746]], dtype=int64)}"
      ]
     },
     "execution_count": 21,
     "metadata": {},
     "output_type": "execute_result"
    }
   ],
   "source": [
    "result_BiLSTM_on_test=trainer.evaluate(model_BiLSTM, test_loader_sentiment, device=torch.device('cuda' if torch.cuda.is_available() else 'cpu'))\n",
    "result_BiLSTM_on_test"
   ]
  },
  {
   "cell_type": "markdown",
   "id": "b7cbe32c-6dc0-4ab8-9918-7cc376d0af57",
   "metadata": {},
   "source": [
    "## GRU"
   ]
  },
  {
   "cell_type": "markdown",
   "id": "b9357a20-c597-412c-b26f-37a1594a6249",
   "metadata": {},
   "source": [
    "### Training"
   ]
  },
  {
   "cell_type": "code",
   "execution_count": null,
   "id": "90797e72-9d1e-4023-bb93-5ce97469ac88",
   "metadata": {},
   "outputs": [
    {
     "name": "stdout",
     "output_type": "stream",
     "text": [
      "GRU(\n",
      "  (embedding): Embedding(5000, 128)\n",
      "  (gru): GRU(128, 64, num_layers=2, batch_first=True, dropout=0.2)\n",
      "  (dense1): Linear(in_features=64, out_features=64, bias=True)\n",
      "  (bn): BatchNorm1d(64, eps=1e-05, momentum=0.1, affine=True, track_running_stats=True)\n",
      "  (dropout): Dropout(p=0.2, inplace=False)\n",
      "  (dense2): Linear(in_features=64, out_features=3, bias=True)\n",
      ")\n"
     ]
    }
   ],
   "source": [
    "import torch\n",
    "import torch.nn as nn\n",
    "import torch.optim as optim\n",
    "from build_model.build_gru import *\n",
    "from torch.utils.tensorboard import SummaryWriter\n",
    "from training.trainer import *\n",
    "import os\n",
    "\n",
    "device=torch.device('cuda' if torch.cuda.is_available() else 'cpu')\n",
    "model_GRU=GRU(vocab_size=5000, embedding_dim=128, num_layers=2, activation=None, batch_normalization=True, bidirectional=False,output_dim=3).to(device)\n",
    "criterion=nn.CrossEntropyLoss()\n",
    "optimizer_GRU=optim.Adam(model_GRU.parameters(), lr=0.001)\n",
    "epochs=5\n",
    "trainer=trainer()\n",
    "log_dir='logs/GRU'\n",
    "if os.path.exists(log_dir):\n",
    "    shutil.rmtree(log_dir)\n",
    "writer = SummaryWriter(log_dir=log_dir)\n",
    "print(model_GRU)"
   ]
  },
  {
   "cell_type": "code",
   "execution_count": null,
   "id": "f257a3c1-461b-4664-98c0-41a7923ea99c",
   "metadata": {},
   "outputs": [],
   "source": [
    "import pickle\n",
    "from build_model.build_gru import *\n",
    "\n",
    "model_GRU=GRU(vocab_size=5000, embedding_dim=128, num_layers=2, activation=None, batch_normalization=True, bidirectional=False, output_dim=3)\n",
    "with open('model_architecture/GRU.pkl','wb') as f:\n",
    "    pickle.dump(model_GRU, f)"
   ]
  },
  {
   "cell_type": "code",
   "execution_count": null,
   "id": "ea76b24d-c857-475c-b965-0c0985e1fff9",
   "metadata": {},
   "outputs": [
    {
     "name": "stderr",
     "output_type": "stream",
     "text": [
      "TRAIN | Epoch: 1/5 | Iter: 819/819 | Error: 0/819 | Loss: 0.0313: 100%|\u001b[38;2;128;0;128m███████████████\u001b[0m| 819/819 [00:40<00:00, 20.31it/s]\u001b[0m\n"
     ]
    },
    {
     "name": "stdout",
     "output_type": "stream",
     "text": [
      "TEST | Epoch: 1/5 | Loss: 0.0202 | Accuracy: 0.8929\n"
     ]
    },
    {
     "name": "stderr",
     "output_type": "stream",
     "text": [
      "TRAIN | Epoch: 2/5 | Iter: 819/819 | Error: 0/819 | Loss: 0.0191: 100%|\u001b[38;2;128;0;128m███████████████\u001b[0m| 819/819 [00:44<00:00, 18.54it/s]\u001b[0m\n"
     ]
    },
    {
     "name": "stdout",
     "output_type": "stream",
     "text": [
      "TEST | Epoch: 2/5 | Loss: 0.0176 | Accuracy: 0.9059\n"
     ]
    },
    {
     "name": "stderr",
     "output_type": "stream",
     "text": [
      "TRAIN | Epoch: 3/5 | Iter: 819/819 | Error: 0/819 | Loss: 0.0153: 100%|\u001b[38;2;128;0;128m███████████████\u001b[0m| 819/819 [00:45<00:00, 18.07it/s]\u001b[0m\n"
     ]
    },
    {
     "name": "stdout",
     "output_type": "stream",
     "text": [
      "TEST | Epoch: 3/5 | Loss: 0.0176 | Accuracy: 0.9038\n"
     ]
    },
    {
     "name": "stderr",
     "output_type": "stream",
     "text": [
      "TRAIN | Epoch: 4/5 | Iter: 819/819 | Error: 0/819 | Loss: 0.0124: 100%|\u001b[38;2;128;0;128m███████████████\u001b[0m| 819/819 [00:45<00:00, 18.19it/s]\u001b[0m\n"
     ]
    },
    {
     "name": "stdout",
     "output_type": "stream",
     "text": [
      "TEST | Epoch: 4/5 | Loss: 0.0183 | Accuracy: 0.9107\n"
     ]
    },
    {
     "name": "stderr",
     "output_type": "stream",
     "text": [
      "TRAIN | Epoch: 5/5 | Iter: 819/819 | Error: 0/819 | Loss: 0.0102: 100%|\u001b[38;2;128;0;128m███████████████\u001b[0m| 819/819 [00:51<00:00, 15.91it/s]\u001b[0m\n"
     ]
    },
    {
     "name": "stdout",
     "output_type": "stream",
     "text": [
      "TEST | Epoch: 5/5 | Loss: 0.0184 | Accuracy: 0.9141\n"
     ]
    }
   ],
   "source": [
    "best_acc=0\n",
    "for epoch in range(epochs):\n",
    "    trainer.train(model_GRU, train_loader_sentiment, epoch, epochs, writer, criterion, optimizer_GRU, device)\n",
    "    val_loss, val_acc = trainer.validation(model_GRU, val_loader_sentiment, criterion, device)\n",
    "    print(f\"TEST | Epoch: {epoch+1}/{epochs} | Loss: {val_loss:.4f} | Accuracy: {val_acc:.4f}\")\n",
    "    writer.add_scalar('Val/Loss', val_loss, epoch+1)\n",
    "    writer.add_scalar('Val/Acc', val_acc, epoch+1)\n",
    "    checkpoint = {\n",
    "        'model_state_dict': model_GRU.state_dict(),\n",
    "        'epoch': epoch+1,\n",
    "        'opimizer_state_dict': optimizer_GRU.state_dict(),\n",
    "    }\n",
    "    os.makedirs('model/GRU', exist_ok=True)\n",
    "    torch.save(checkpoint, os.path.join('model/GRU','last.pt'))\n",
    "    if val_acc>best_acc:\n",
    "        torch.save(checkpoint, os.path.join('model/GRU','best.pt'))\n",
    "        best_acc=val_acc"
   ]
  },
  {
   "cell_type": "markdown",
   "id": "93b2b080-96bc-45e4-b5df-a021cea41469",
   "metadata": {},
   "source": [
    "### Evaluate\n"
   ]
  },
  {
   "cell_type": "code",
   "execution_count": null,
   "id": "b761e16d-93ef-482e-b0d6-3919f9cf38d4",
   "metadata": {},
   "outputs": [],
   "source": [
    "from training.trainer import *\n",
    "from build_model.build_gru import *\n",
    "trainer=trainer()\n",
    "device=torch.device('cuda' if torch.cuda.is_available() else 'cpu')\n",
    "model_GRU=GRU(vocab_size=5000, embedding_dim=128, num_layers=2, activation=None, batch_normalization=True, bidirectional=False).to(device)\n",
    "model_state_dict=torch.load('model/GRU/best.pt', map_location=device)\n",
    "model_GRU.load_state_dict(model_state_dict['model_state_dict'])\n",
    "result_GRU_on_test=trainer.evaluate(model_GRU, test_loader_sentiment, device=torch.device('cuda' if torch.cuda.is_available() else 'cpu'))"
   ]
  },
  {
   "cell_type": "code",
   "execution_count": null,
   "id": "583bcd57-cf9b-43a2-80c8-d53b71cf5634",
   "metadata": {},
   "outputs": [
    {
     "data": {
      "text/html": [
       "<div>\n",
       "<style scoped>\n",
       "    .dataframe tbody tr th:only-of-type {\n",
       "        vertical-align: middle;\n",
       "    }\n",
       "\n",
       "    .dataframe tbody tr th {\n",
       "        vertical-align: top;\n",
       "    }\n",
       "\n",
       "    .dataframe thead th {\n",
       "        text-align: right;\n",
       "    }\n",
       "</style>\n",
       "<table border=\"1\" class=\"dataframe\">\n",
       "  <thead>\n",
       "    <tr style=\"text-align: right;\">\n",
       "      <th></th>\n",
       "      <th>accuracy</th>\n",
       "      <th>precision</th>\n",
       "      <th>recall</th>\n",
       "      <th>f1-score</th>\n",
       "    </tr>\n",
       "  </thead>\n",
       "  <tbody>\n",
       "    <tr>\n",
       "      <th>GRU</th>\n",
       "      <td>0.914091</td>\n",
       "      <td>0.932634</td>\n",
       "      <td>0.914091</td>\n",
       "      <td>0.921216</td>\n",
       "    </tr>\n",
       "  </tbody>\n",
       "</table>\n",
       "</div>"
      ],
      "text/plain": [
       "     accuracy  precision    recall  f1-score\n",
       "GRU  0.914091   0.932634  0.914091  0.921216"
      ]
     },
     "execution_count": 30,
     "metadata": {},
     "output_type": "execute_result"
    }
   ],
   "source": [
    "result_GRU_df=pd.DataFrame({\n",
    "    'accuracy': result_GRU_on_test['accuracy'],\n",
    "    'precision': result_GRU_on_test['precision'],\n",
    "    'recall': result_GRU_on_test['recall'],\n",
    "    'f1-score': result_GRU_on_test['f1-score']\n",
    "}, index=['GRU'])\n",
    "result_GRU_df"
   ]
  },
  {
   "cell_type": "code",
   "execution_count": null,
   "id": "5459e32f-ed8a-485d-903a-6415d83a0e4b",
   "metadata": {},
   "outputs": [
    {
     "data": {
      "image/png": "[encoded data removed]",
      "text/plain": [
       "<Figure size 320x300 with 2 Axes>"
      ]
     },
     "metadata": {},
     "output_type": "display_data"
    }
   ],
   "source": [
    "plot_cfs_matrix(result_GRU_on_test['confusion_matrix'], [\"Negative\", \"Neutral\", \"Positive\"])"
   ]
  },
  {
   "cell_type": "markdown",
   "id": "1283264c-9287-4f1e-afe0-1d2d8b459b63",
   "metadata": {},
   "source": [
    "### HyperParameters Tuning"
   ]
  },
  {
   "cell_type": "code",
   "execution_count": null,
   "id": "a2df187e-58e0-4101-a182-10d8f7ff4914",
   "metadata": {},
   "outputs": [],
   "source": [
    "from SearchCV.randomizedSearchCv_GRU import *"
   ]
  },
  {
   "cell_type": "code",
   "execution_count": null,
   "id": "3d96ebbd-2701-4654-ac7c-e08150b1de8c",
   "metadata": {},
   "outputs": [],
   "source": [
    "from SearchCV.perform_randomSearch import *"
   ]
  },
  {
   "cell_type": "code",
   "execution_count": null,
   "id": "f615c4b8-d09b-4ad0-a7e5-76a9737983a8",
   "metadata": {},
   "outputs": [],
   "source": [
    "from scipy.stats import randint, uniform  # Import these for param_dist\n",
    "param_dist = {\n",
    "    'embedding_dim': randint(128, 256),\n",
    "    'num_layers': randint(1, 3),\n",
    "    'drop_out': uniform(0.2, 0.5),\n",
    "    'units':  randint(64, 128),\n",
    "    'activation': [None],\n",
    "    'batch_normalization': [True, False],\n",
    "    'bidirectional': [True, False],\n",
    "    'lr': uniform(0.0001, 0.01),\n",
    "    'epochs': randint(3, 5)\n",
    "}"
   ]
  },
  {
   "cell_type": "code",
   "execution_count": null,
   "id": "339cf976-39ad-4cd4-8c85-8a7e084807b4",
   "metadata": {},
   "outputs": [],
   "source": [
    "model_wrapper = PytorchModelWrapper(vocab_size=5000, embedding_dim=128, num_layers=2,\n",
    "                                    drop_out=0.2,\n",
    "                                    units=64,\n",
    "                                    activation=None, \n",
    "                                    batch_normalization=True,\n",
    "                                    bidirectional=False)"
   ]
  },
  {
   "cell_type": "code",
   "execution_count": null,
   "id": "bd7edfa5-1ac3-45a4-b33d-f695cf4959ca",
   "metadata": {
    "scrolled": true
   },
   "outputs": [
    {
     "name": "stdout",
     "output_type": "stream",
     "text": [
      "\n",
      "GRU model results after HyperParameters Tuning:\n",
      "\n",
      "Params: {'activation': None, 'batch_normalization': False, 'bidirectional': False, 'drop_out': 0.43213670417397704, 'embedding_dim': 196, 'epochs': 4, 'lr': 0.008929428540843271, 'num_layers': 2, 'units': 110} - Mean test score: 0.89 - Rank: 1\n",
      "\n",
      "Bests parameters for GRU model: {'activation': None, 'batch_normalization': False, 'bidirectional': False, 'drop_out': 0.43213670417397704, 'embedding_dim': 196, 'epochs': 4, 'lr': 0.008929428540843271, 'num_layers': 2, 'units': 110}\n",
      "\n"
     ]
    }
   ],
   "source": [
    "best_params, best_model = perform_random_search_pytorch('GRU', model_wrapper, param_dist,\n",
    "                                                        train_dataset_sentiment[:]['numericalized_encode'],\n",
    "                                                        train_dataset_sentiment[:]['labels'],\n",
    "                                                        n_iter=1,\n",
    "                                                        cv=2)"
   ]
  },
  {
   "cell_type": "markdown",
   "id": "7bf1a140",
   "metadata": {},
   "source": [
    "## Bert"
   ]
  },
  {
   "cell_type": "code",
   "execution_count": 9,
   "id": "675e63e2",
   "metadata": {},
   "outputs": [],
   "source": [
    "import torch\n",
    "import torch.nn as nn\n",
    "import torch.optim as optim\n",
    "from transformers import AutoTokenizer, AutoModel\n",
    "from torch.utils.data import Dataset, DataLoader"
   ]
  },
  {
   "cell_type": "code",
   "execution_count": null,
   "id": "1fc00321",
   "metadata": {},
   "outputs": [],
   "source": [
    "corpus = data['sentence']\n",
    "# Ghi dữ liệu vào file\n",
    "with open(\"corpus.txt\", \"w\", encoding=\"utf-8\") as f:\n",
    "    for line in corpus:\n",
    "        f.write(line + \"\\n\")"
   ]
  },
  {
   "cell_type": "code",
   "execution_count": null,
   "id": "2e3e74ea",
   "metadata": {},
   "outputs": [],
   "source": [
    "from tokenizers import Tokenizer\n",
    "from tokenizers.models import WordPiece\n",
    "from tokenizers.trainers import WordPieceTrainer\n",
    "from tokenizers.pre_tokenizers import Whitespace\n",
    "\n",
    "tokenizer = Tokenizer(WordPiece(unk_token=\"[UNK]\"))\n",
    "\n",
    "tokenizer.pre_tokenizer = Whitespace()\n",
    "\n",
    "trainer = WordPieceTrainer(vocab_size=5000,\n",
    "                           special_tokens=[\"[UNK]\", \"[CLS]\", \"[SEP]\", \"[PAD]\", \"[MASK]\"]\n",
    ")\n",
    "\n",
    "files = [\"corpus.txt\"]  \n",
    "\n",
    "tokenizer.train(files, trainer)\n",
    "\n",
    "tokenizer.save(\"custom_tokenizer.json\")"
   ]
  },
  {
   "cell_type": "code",
   "execution_count": 10,
   "id": "172f9c7e",
   "metadata": {},
   "outputs": [],
   "source": [
    "from tokenizers import Tokenizer\n",
    "tokenizer = Tokenizer.from_file(\"custom_tokenizer.json\")\n"
   ]
  },
  {
   "cell_type": "code",
   "execution_count": 35,
   "id": "6819ee2b",
   "metadata": {},
   "outputs": [
    {
     "name": "stdout",
     "output_type": "stream",
     "text": [
      "Attention Masks: [[0, 1, 1, 1, 0, 0, 0, 0, 0, 0], [0, 1, 1, 1, 1, 1, 0, 0, 0, 0]]\n",
      "Padded Token IDs: [[0, 280, 361, 668, 0, 0, 0, 0, 0, 0], [0, 453, 1039, 308, 361, 1415, 0, 0, 0, 0]]\n"
     ]
    }
   ],
   "source": [
    "# Tokenize nhiều câu\n",
    "sentences = [\"Đây là một câu.\", \"Câu này dài hơn một chút.\"]\n",
    "encodings = tokenizer.encode_batch(sentences)\n",
    "\n",
    "# Thêm padding và truncation\n",
    "max_length = 10  # Độ dài tối đa\n",
    "\n",
    "padded_token_ids = [\n",
    "    encoding.ids + [0] * (max_length - len(encoding.ids)) if len(encoding.ids) < max_length else encoding.ids[:max_length]\n",
    "    for encoding in encodings\n",
    "]\n",
    "\n",
    "# Tạo attention mask\n",
    "attention_masks = [\n",
    "    [1 if token != 0 else 0 for token in tokens] for tokens in padded_token_ids\n",
    "]\n",
    "\n",
    "print(\"Attention Masks:\", attention_masks)\n",
    "\n",
    "\n",
    "print(\"Padded Token IDs:\", padded_token_ids)\n",
    "# Ví dụ: [[101, 234, 876, 112, 0, 0, 0, 0, 0, 0], [101, 876, 234, 789, 543, 0, 0, 0, 0, 0]]\n"
   ]
  },
  {
   "cell_type": "code",
   "execution_count": 11,
   "id": "8a967ba1",
   "metadata": {},
   "outputs": [],
   "source": [
    "class CustomDataset(Dataset):\n",
    "    def __init__(self, sentences, labels, tokenizer, max_length):\n",
    "        self.sentences=sentences\n",
    "        self.labels=labels\n",
    "        self.tokenizer=tokenizer\n",
    "        self.max_length=max_length\n",
    "        self.encodings=self.tokenizer.encode_batch(self.sentences)\n",
    "        print()\n",
    "        self.padded_token_ids = [\n",
    "            encoding.ids +[0]* (self.max_length - len(encoding.ids))\n",
    "            if len(encoding.ids) < self.max_length\n",
    "            else  encoding.ids[:self.max_length]\n",
    "            for encoding in self.encodings\n",
    "        ]\n",
    "        self.attention_masks = [\n",
    "            [1 if token !=0 else 0 for token in tokens] for tokens in self.padded_token_ids\n",
    "        ]\n",
    "    def __len__(self):\n",
    "        return len(self.labels)\n",
    "    def __getitem__(self, idx):\n",
    "        \"\"\"\n",
    "        Trả về một mẫu tại chỉ mục idx.\n",
    "        Args:\n",
    "            idx (int): Chỉ mục của mẫu.\n",
    "        Returns:\n",
    "            dict: Gồm input_ids, attention_mask, và label.\n",
    "        \"\"\"\n",
    "        return {\n",
    "            'sentences': self.sentences[idx],\n",
    "            'input_ids': torch.tensor(self.padded_token_ids[idx], dtype=torch.long),\n",
    "            'attention_mask': torch.tensor(self.attention_masks[idx], dtype=torch.long),\n",
    "            'label': torch.tensor(self.labels[idx], dtype=torch.long)\n",
    "        }\n"
   ]
  },
  {
   "cell_type": "code",
   "execution_count": 29,
   "id": "137b3b2b",
   "metadata": {},
   "outputs": [],
   "source": [
    "class CustomDataset(Dataset):\n",
    "    def __init__(self, sentences, labels, tokenizer, max_length, cls_token=\"[CLS]\", sep_token=\"[SEP]\"):\n",
    "        \"\"\"\n",
    "        Dataset tuỳ chỉnh.\n",
    "        Args:\n",
    "            sentences (list): Danh sách các câu.\n",
    "            labels (list): Danh sách nhãn.\n",
    "            tokenizer: Tokenizer với hàm encode_batch.\n",
    "            max_length (int): Độ dài tối đa của mỗi câu.\n",
    "            cls_token (str): Token bắt đầu câu.\n",
    "            sep_token (str): Token kết thúc câu.\n",
    "        \"\"\"\n",
    "        self.sentences = sentences\n",
    "        self.labels = labels\n",
    "        self.tokenizer = tokenizer\n",
    "        self.max_length = max_length\n",
    "        self.cls_token = cls_token\n",
    "        self.sep_token = sep_token\n",
    "\n",
    "        # Thêm token đặc biệt và mã hóa các câu\n",
    "        self.encodings = self.tokenizer.encode_batch(\n",
    "            [f\"{self.cls_token} {sentence} {self.sep_token}\" for sentence in self.sentences]\n",
    "        )\n",
    "\n",
    "        # Thêm padding và attention mask\n",
    "        self.padded_token_ids = [\n",
    "            encoding.ids + [0] * (self.max_length - len(encoding.ids))\n",
    "            if len(encoding.ids) < self.max_length\n",
    "            else encoding.ids[:self.max_length]\n",
    "            for encoding in self.encodings\n",
    "        ]\n",
    "        self.attention_masks = [\n",
    "            [1 if token != 0 else 0 for token in tokens] for tokens in self.padded_token_ids\n",
    "        ]\n",
    "\n",
    "    def __len__(self):\n",
    "        return len(self.labels)\n",
    "\n",
    "    def __getitem__(self, idx):\n",
    "        \"\"\"\n",
    "        Trả về một mẫu tại chỉ mục idx.\n",
    "        Args:\n",
    "            idx (int): Chỉ mục của mẫu.\n",
    "        Returns:\n",
    "            dict: Gồm sentences, input_ids, attention_mask, và label.\n",
    "        \"\"\"\n",
    "        return {\n",
    "            'sentence': self.sentences[idx],\n",
    "            'input_ids': torch.tensor(self.padded_token_ids[idx], dtype=torch.long),\n",
    "            'attention_mask': torch.tensor(self.attention_masks[idx], dtype=torch.long),\n",
    "            'label': torch.tensor(self.labels[idx], dtype=torch.long)\n",
    "        }\n"
   ]
  },
  {
   "cell_type": "code",
   "execution_count": 24,
   "id": "69a70f8a",
   "metadata": {},
   "outputs": [
    {
     "name": "stdout",
     "output_type": "stream",
     "text": [
      "\n",
      "\n",
      "\n"
     ]
    }
   ],
   "source": [
    "train_dataset = CustomDataset(X_train, y_train_sentiment, tokenizer, max_length=24)\n",
    "val_dataset = CustomDataset(X_val, y_val_sentiment, tokenizer, max_length=24)\n",
    "test_dataset = CustomDataset(X_test, y_test_sentiment, tokenizer, max_length=24)\n",
    "\n",
    "train_loader = DataLoader(train_dataset, batch_size=16, shuffle=True)\n",
    "val_loader = DataLoader(val_dataset, batch_size=16, shuffle=False)\n",
    "test_loader = DataLoader(test_dataset, batch_size=16, shuffle=False)\n"
   ]
  },
  {
   "cell_type": "code",
   "execution_count": 27,
   "id": "841323e8",
   "metadata": {},
   "outputs": [],
   "source": [
    "optimizer.state_dict().clear()\n"
   ]
  },
  {
   "cell_type": "code",
   "execution_count": 28,
   "id": "f5c8d878",
   "metadata": {},
   "outputs": [],
   "source": [
    "device = torch.device(\"cuda\" if torch.cuda.is_available() else \"cpu\")\n",
    "class PhoBERTClassifier(nn.Module):\n",
    "    def __init__(self, phobert_model_name, num_labels):\n",
    "        super(PhoBERTClassifier, self).__init__()\n",
    "        self.phobert = AutoModel.from_pretrained(phobert_model_name)\n",
    "        self.classifier = nn.Linear(self.phobert.config.hidden_size, num_labels)\n",
    "    \n",
    "    def forward(self, input_ids, attention_mask):\n",
    "        outputs = self.phobert(input_ids=input_ids, attention_mask=attention_mask)\n",
    "        # Sử dụng embedding của token [CLS]\n",
    "        cls_output = outputs.last_hidden_state[:, 0, :]\n",
    "        logits = self.classifier(cls_output)\n",
    "        return logits\n",
    "\n",
    "model = PhoBERTClassifier(\"bert-base-uncased\", num_labels=3)\n",
    "model = model.to(device)\n",
    "optimizer = torch.optim.AdamW(model.parameters(), lr=2e-5)"
   ]
  },
  {
   "cell_type": "code",
   "execution_count": 18,
   "id": "9cb2b85a",
   "metadata": {},
   "outputs": [
    {
     "data": {
      "text/plain": [
       "PhoBERTClassifier(\n",
       "  (phobert): BertModel(\n",
       "    (embeddings): BertEmbeddings(\n",
       "      (word_embeddings): Embedding(30522, 768, padding_idx=0)\n",
       "      (position_embeddings): Embedding(512, 768)\n",
       "      (token_type_embeddings): Embedding(2, 768)\n",
       "      (LayerNorm): LayerNorm((768,), eps=1e-12, elementwise_affine=True)\n",
       "      (dropout): Dropout(p=0.1, inplace=False)\n",
       "    )\n",
       "    (encoder): BertEncoder(\n",
       "      (layer): ModuleList(\n",
       "        (0-11): 12 x BertLayer(\n",
       "          (attention): BertAttention(\n",
       "            (self): BertSdpaSelfAttention(\n",
       "              (query): Linear(in_features=768, out_features=768, bias=True)\n",
       "              (key): Linear(in_features=768, out_features=768, bias=True)\n",
       "              (value): Linear(in_features=768, out_features=768, bias=True)\n",
       "              (dropout): Dropout(p=0.1, inplace=False)\n",
       "            )\n",
       "            (output): BertSelfOutput(\n",
       "              (dense): Linear(in_features=768, out_features=768, bias=True)\n",
       "              (LayerNorm): LayerNorm((768,), eps=1e-12, elementwise_affine=True)\n",
       "              (dropout): Dropout(p=0.1, inplace=False)\n",
       "            )\n",
       "          )\n",
       "          (intermediate): BertIntermediate(\n",
       "            (dense): Linear(in_features=768, out_features=3072, bias=True)\n",
       "            (intermediate_act_fn): GELUActivation()\n",
       "          )\n",
       "          (output): BertOutput(\n",
       "            (dense): Linear(in_features=3072, out_features=768, bias=True)\n",
       "            (LayerNorm): LayerNorm((768,), eps=1e-12, elementwise_affine=True)\n",
       "            (dropout): Dropout(p=0.1, inplace=False)\n",
       "          )\n",
       "        )\n",
       "      )\n",
       "    )\n",
       "    (pooler): BertPooler(\n",
       "      (dense): Linear(in_features=768, out_features=768, bias=True)\n",
       "      (activation): Tanh()\n",
       "    )\n",
       "  )\n",
       "  (classifier): Linear(in_features=768, out_features=3, bias=True)\n",
       ")"
      ]
     },
     "execution_count": 18,
     "metadata": {},
     "output_type": "execute_result"
    }
   ],
   "source": [
    "model"
   ]
  },
  {
   "cell_type": "code",
   "execution_count": 17,
   "id": "f34381df",
   "metadata": {},
   "outputs": [
    {
     "name": "stdout",
     "output_type": "stream",
     "text": [
      "Tổng số trọng số: 109484547\n",
      "Số trọng số huấn luyện: 109484547\n"
     ]
    }
   ],
   "source": [
    "total_params = sum(p.numel() for p in model.parameters())\n",
    "trainable_params = sum(p.numel() for p in model.parameters() if p.requires_grad)\n",
    "\n",
    "print(f\"Tổng số trọng số: {total_params}\")\n",
    "print(f\"Số trọng số huấn luyện: {trainable_params}\")\n"
   ]
  },
  {
   "cell_type": "code",
   "execution_count": 29,
   "id": "5b03f6b2",
   "metadata": {},
   "outputs": [
    {
     "name": "stdout",
     "output_type": "stream",
     "text": [
      "Epoch 1/3\n",
      "----------\n"
     ]
    },
    {
     "ename": "KeyboardInterrupt",
     "evalue": "",
     "output_type": "error",
     "traceback": [
      "\u001b[1;31m---------------------------------------------------------------------------\u001b[0m",
      "\u001b[1;31mKeyboardInterrupt\u001b[0m                         Traceback (most recent call last)",
      "Cell \u001b[1;32mIn[29], line 75\u001b[0m\n\u001b[0;32m     72\u001b[0m \u001b[38;5;28mprint\u001b[39m(\u001b[38;5;124mf\u001b[39m\u001b[38;5;124m'\u001b[39m\u001b[38;5;124mEpoch \u001b[39m\u001b[38;5;132;01m{\u001b[39;00mepoch\u001b[38;5;250m \u001b[39m\u001b[38;5;241m+\u001b[39m\u001b[38;5;250m \u001b[39m\u001b[38;5;241m1\u001b[39m\u001b[38;5;132;01m}\u001b[39;00m\u001b[38;5;124m/\u001b[39m\u001b[38;5;132;01m{\u001b[39;00mEPOCHS\u001b[38;5;132;01m}\u001b[39;00m\u001b[38;5;124m'\u001b[39m)\n\u001b[0;32m     73\u001b[0m \u001b[38;5;28mprint\u001b[39m(\u001b[38;5;124m'\u001b[39m\u001b[38;5;124m-\u001b[39m\u001b[38;5;124m'\u001b[39m \u001b[38;5;241m*\u001b[39m \u001b[38;5;241m10\u001b[39m)\n\u001b[1;32m---> 75\u001b[0m train_acc, train_loss \u001b[38;5;241m=\u001b[39m \u001b[43mtrain_epoch\u001b[49m\u001b[43m(\u001b[49m\n\u001b[0;32m     76\u001b[0m \u001b[43m    \u001b[49m\u001b[43mmodel\u001b[49m\u001b[43m,\u001b[49m\n\u001b[0;32m     77\u001b[0m \u001b[43m    \u001b[49m\u001b[43mtrain_loader\u001b[49m\u001b[43m,\u001b[49m\n\u001b[0;32m     78\u001b[0m \u001b[43m    \u001b[49m\u001b[43mloss_fn\u001b[49m\u001b[43m,\u001b[49m\n\u001b[0;32m     79\u001b[0m \u001b[43m    \u001b[49m\u001b[43moptimizer\u001b[49m\u001b[43m,\u001b[49m\n\u001b[0;32m     80\u001b[0m \u001b[43m    \u001b[49m\u001b[43mdevice\u001b[49m\u001b[43m,\u001b[49m\n\u001b[0;32m     81\u001b[0m \u001b[43m    \u001b[49m\u001b[43mscheduler\u001b[49m\u001b[43m,\u001b[49m\n\u001b[0;32m     82\u001b[0m \u001b[43m    \u001b[49m\u001b[38;5;28;43mlen\u001b[39;49m\u001b[43m(\u001b[49m\u001b[43mX_train\u001b[49m\u001b[43m)\u001b[49m\n\u001b[0;32m     83\u001b[0m \u001b[43m\u001b[49m\u001b[43m)\u001b[49m\n\u001b[0;32m     85\u001b[0m \u001b[38;5;28mprint\u001b[39m(\u001b[38;5;124mf\u001b[39m\u001b[38;5;124m'\u001b[39m\u001b[38;5;124mTrain loss \u001b[39m\u001b[38;5;132;01m{\u001b[39;00mtrain_loss\u001b[38;5;132;01m}\u001b[39;00m\u001b[38;5;124m accuracy \u001b[39m\u001b[38;5;132;01m{\u001b[39;00mtrain_acc\u001b[38;5;132;01m}\u001b[39;00m\u001b[38;5;124m'\u001b[39m)\n\u001b[0;32m     87\u001b[0m val_acc, val_loss \u001b[38;5;241m=\u001b[39m eval_model(\n\u001b[0;32m     88\u001b[0m     model,\n\u001b[0;32m     89\u001b[0m     val_loader,\n\u001b[1;32m   (...)\u001b[0m\n\u001b[0;32m     92\u001b[0m     \u001b[38;5;28mlen\u001b[39m(X_val)\n\u001b[0;32m     93\u001b[0m )\n",
      "Cell \u001b[1;32mIn[29], line 27\u001b[0m, in \u001b[0;36mtrain_epoch\u001b[1;34m(model, data_loader, loss_fn, optimizer, device, scheduler, n_examples)\u001b[0m\n\u001b[0;32m     24\u001b[0m losses\u001b[38;5;241m.\u001b[39mappend(loss\u001b[38;5;241m.\u001b[39mitem())\n\u001b[0;32m     26\u001b[0m loss\u001b[38;5;241m.\u001b[39mbackward()\n\u001b[1;32m---> 27\u001b[0m \u001b[43moptimizer\u001b[49m\u001b[38;5;241;43m.\u001b[39;49m\u001b[43mstep\u001b[49m\u001b[43m(\u001b[49m\u001b[43m)\u001b[49m\n\u001b[0;32m     28\u001b[0m scheduler\u001b[38;5;241m.\u001b[39mstep()\n\u001b[0;32m     29\u001b[0m optimizer\u001b[38;5;241m.\u001b[39mzero_grad()\n",
      "File \u001b[1;32mc:\\Users\\Admin\\AppData\\Local\\Programs\\Python\\Python311\\Lib\\site-packages\\torch\\optim\\lr_scheduler.py:68\u001b[0m, in \u001b[0;36mLRScheduler.__init__.<locals>.with_counter.<locals>.wrapper\u001b[1;34m(*args, **kwargs)\u001b[0m\n\u001b[0;32m     66\u001b[0m instance\u001b[38;5;241m.\u001b[39m_step_count \u001b[38;5;241m+\u001b[39m\u001b[38;5;241m=\u001b[39m \u001b[38;5;241m1\u001b[39m\n\u001b[0;32m     67\u001b[0m wrapped \u001b[38;5;241m=\u001b[39m func\u001b[38;5;241m.\u001b[39m\u001b[38;5;21m__get__\u001b[39m(instance, \u001b[38;5;28mcls\u001b[39m)\n\u001b[1;32m---> 68\u001b[0m \u001b[38;5;28;01mreturn\u001b[39;00m \u001b[43mwrapped\u001b[49m\u001b[43m(\u001b[49m\u001b[38;5;241;43m*\u001b[39;49m\u001b[43margs\u001b[49m\u001b[43m,\u001b[49m\u001b[43m \u001b[49m\u001b[38;5;241;43m*\u001b[39;49m\u001b[38;5;241;43m*\u001b[39;49m\u001b[43mkwargs\u001b[49m\u001b[43m)\u001b[49m\n",
      "File \u001b[1;32mc:\\Users\\Admin\\AppData\\Local\\Programs\\Python\\Python311\\Lib\\site-packages\\torch\\optim\\optimizer.py:373\u001b[0m, in \u001b[0;36mOptimizer.profile_hook_step.<locals>.wrapper\u001b[1;34m(*args, **kwargs)\u001b[0m\n\u001b[0;32m    368\u001b[0m         \u001b[38;5;28;01melse\u001b[39;00m:\n\u001b[0;32m    369\u001b[0m             \u001b[38;5;28;01mraise\u001b[39;00m \u001b[38;5;167;01mRuntimeError\u001b[39;00m(\n\u001b[0;32m    370\u001b[0m                 \u001b[38;5;124mf\u001b[39m\u001b[38;5;124m\"\u001b[39m\u001b[38;5;132;01m{\u001b[39;00mfunc\u001b[38;5;132;01m}\u001b[39;00m\u001b[38;5;124m must return None or a tuple of (new_args, new_kwargs), but got \u001b[39m\u001b[38;5;132;01m{\u001b[39;00mresult\u001b[38;5;132;01m}\u001b[39;00m\u001b[38;5;124m.\u001b[39m\u001b[38;5;124m\"\u001b[39m\n\u001b[0;32m    371\u001b[0m             )\n\u001b[1;32m--> 373\u001b[0m out \u001b[38;5;241m=\u001b[39m \u001b[43mfunc\u001b[49m\u001b[43m(\u001b[49m\u001b[38;5;241;43m*\u001b[39;49m\u001b[43margs\u001b[49m\u001b[43m,\u001b[49m\u001b[43m \u001b[49m\u001b[38;5;241;43m*\u001b[39;49m\u001b[38;5;241;43m*\u001b[39;49m\u001b[43mkwargs\u001b[49m\u001b[43m)\u001b[49m\n\u001b[0;32m    374\u001b[0m \u001b[38;5;28mself\u001b[39m\u001b[38;5;241m.\u001b[39m_optimizer_step_code()\n\u001b[0;32m    376\u001b[0m \u001b[38;5;66;03m# call optimizer step post hooks\u001b[39;00m\n",
      "File \u001b[1;32mc:\\Users\\Admin\\AppData\\Local\\Programs\\Python\\Python311\\Lib\\site-packages\\torch\\optim\\optimizer.py:76\u001b[0m, in \u001b[0;36m_use_grad_for_differentiable.<locals>._use_grad\u001b[1;34m(self, *args, **kwargs)\u001b[0m\n\u001b[0;32m     74\u001b[0m     torch\u001b[38;5;241m.\u001b[39mset_grad_enabled(\u001b[38;5;28mself\u001b[39m\u001b[38;5;241m.\u001b[39mdefaults[\u001b[38;5;124m'\u001b[39m\u001b[38;5;124mdifferentiable\u001b[39m\u001b[38;5;124m'\u001b[39m])\n\u001b[0;32m     75\u001b[0m     torch\u001b[38;5;241m.\u001b[39m_dynamo\u001b[38;5;241m.\u001b[39mgraph_break()\n\u001b[1;32m---> 76\u001b[0m     ret \u001b[38;5;241m=\u001b[39m \u001b[43mfunc\u001b[49m\u001b[43m(\u001b[49m\u001b[38;5;28;43mself\u001b[39;49m\u001b[43m,\u001b[49m\u001b[43m \u001b[49m\u001b[38;5;241;43m*\u001b[39;49m\u001b[43margs\u001b[49m\u001b[43m,\u001b[49m\u001b[43m \u001b[49m\u001b[38;5;241;43m*\u001b[39;49m\u001b[38;5;241;43m*\u001b[39;49m\u001b[43mkwargs\u001b[49m\u001b[43m)\u001b[49m\n\u001b[0;32m     77\u001b[0m \u001b[38;5;28;01mfinally\u001b[39;00m:\n\u001b[0;32m     78\u001b[0m     torch\u001b[38;5;241m.\u001b[39m_dynamo\u001b[38;5;241m.\u001b[39mgraph_break()\n",
      "File \u001b[1;32mc:\\Users\\Admin\\AppData\\Local\\Programs\\Python\\Python311\\Lib\\site-packages\\torch\\optim\\adamw.py:184\u001b[0m, in \u001b[0;36mAdamW.step\u001b[1;34m(self, closure)\u001b[0m\n\u001b[0;32m    171\u001b[0m     beta1, beta2 \u001b[38;5;241m=\u001b[39m group[\u001b[38;5;124m\"\u001b[39m\u001b[38;5;124mbetas\u001b[39m\u001b[38;5;124m\"\u001b[39m]\n\u001b[0;32m    173\u001b[0m     \u001b[38;5;28mself\u001b[39m\u001b[38;5;241m.\u001b[39m_init_group(\n\u001b[0;32m    174\u001b[0m         group,\n\u001b[0;32m    175\u001b[0m         params_with_grad,\n\u001b[1;32m   (...)\u001b[0m\n\u001b[0;32m    181\u001b[0m         state_steps,\n\u001b[0;32m    182\u001b[0m     )\n\u001b[1;32m--> 184\u001b[0m     \u001b[43madamw\u001b[49m\u001b[43m(\u001b[49m\n\u001b[0;32m    185\u001b[0m \u001b[43m        \u001b[49m\u001b[43mparams_with_grad\u001b[49m\u001b[43m,\u001b[49m\n\u001b[0;32m    186\u001b[0m \u001b[43m        \u001b[49m\u001b[43mgrads\u001b[49m\u001b[43m,\u001b[49m\n\u001b[0;32m    187\u001b[0m \u001b[43m        \u001b[49m\u001b[43mexp_avgs\u001b[49m\u001b[43m,\u001b[49m\n\u001b[0;32m    188\u001b[0m \u001b[43m        \u001b[49m\u001b[43mexp_avg_sqs\u001b[49m\u001b[43m,\u001b[49m\n\u001b[0;32m    189\u001b[0m \u001b[43m        \u001b[49m\u001b[43mmax_exp_avg_sqs\u001b[49m\u001b[43m,\u001b[49m\n\u001b[0;32m    190\u001b[0m \u001b[43m        \u001b[49m\u001b[43mstate_steps\u001b[49m\u001b[43m,\u001b[49m\n\u001b[0;32m    191\u001b[0m \u001b[43m        \u001b[49m\u001b[43mamsgrad\u001b[49m\u001b[38;5;241;43m=\u001b[39;49m\u001b[43mamsgrad\u001b[49m\u001b[43m,\u001b[49m\n\u001b[0;32m    192\u001b[0m \u001b[43m        \u001b[49m\u001b[43mbeta1\u001b[49m\u001b[38;5;241;43m=\u001b[39;49m\u001b[43mbeta1\u001b[49m\u001b[43m,\u001b[49m\n\u001b[0;32m    193\u001b[0m \u001b[43m        \u001b[49m\u001b[43mbeta2\u001b[49m\u001b[38;5;241;43m=\u001b[39;49m\u001b[43mbeta2\u001b[49m\u001b[43m,\u001b[49m\n\u001b[0;32m    194\u001b[0m \u001b[43m        \u001b[49m\u001b[43mlr\u001b[49m\u001b[38;5;241;43m=\u001b[39;49m\u001b[43mgroup\u001b[49m\u001b[43m[\u001b[49m\u001b[38;5;124;43m\"\u001b[39;49m\u001b[38;5;124;43mlr\u001b[39;49m\u001b[38;5;124;43m\"\u001b[39;49m\u001b[43m]\u001b[49m\u001b[43m,\u001b[49m\n\u001b[0;32m    195\u001b[0m \u001b[43m        \u001b[49m\u001b[43mweight_decay\u001b[49m\u001b[38;5;241;43m=\u001b[39;49m\u001b[43mgroup\u001b[49m\u001b[43m[\u001b[49m\u001b[38;5;124;43m\"\u001b[39;49m\u001b[38;5;124;43mweight_decay\u001b[39;49m\u001b[38;5;124;43m\"\u001b[39;49m\u001b[43m]\u001b[49m\u001b[43m,\u001b[49m\n\u001b[0;32m    196\u001b[0m \u001b[43m        \u001b[49m\u001b[43meps\u001b[49m\u001b[38;5;241;43m=\u001b[39;49m\u001b[43mgroup\u001b[49m\u001b[43m[\u001b[49m\u001b[38;5;124;43m\"\u001b[39;49m\u001b[38;5;124;43meps\u001b[39;49m\u001b[38;5;124;43m\"\u001b[39;49m\u001b[43m]\u001b[49m\u001b[43m,\u001b[49m\n\u001b[0;32m    197\u001b[0m \u001b[43m        \u001b[49m\u001b[43mmaximize\u001b[49m\u001b[38;5;241;43m=\u001b[39;49m\u001b[43mgroup\u001b[49m\u001b[43m[\u001b[49m\u001b[38;5;124;43m\"\u001b[39;49m\u001b[38;5;124;43mmaximize\u001b[39;49m\u001b[38;5;124;43m\"\u001b[39;49m\u001b[43m]\u001b[49m\u001b[43m,\u001b[49m\n\u001b[0;32m    198\u001b[0m \u001b[43m        \u001b[49m\u001b[43mforeach\u001b[49m\u001b[38;5;241;43m=\u001b[39;49m\u001b[43mgroup\u001b[49m\u001b[43m[\u001b[49m\u001b[38;5;124;43m\"\u001b[39;49m\u001b[38;5;124;43mforeach\u001b[39;49m\u001b[38;5;124;43m\"\u001b[39;49m\u001b[43m]\u001b[49m\u001b[43m,\u001b[49m\n\u001b[0;32m    199\u001b[0m \u001b[43m        \u001b[49m\u001b[43mcapturable\u001b[49m\u001b[38;5;241;43m=\u001b[39;49m\u001b[43mgroup\u001b[49m\u001b[43m[\u001b[49m\u001b[38;5;124;43m\"\u001b[39;49m\u001b[38;5;124;43mcapturable\u001b[39;49m\u001b[38;5;124;43m\"\u001b[39;49m\u001b[43m]\u001b[49m\u001b[43m,\u001b[49m\n\u001b[0;32m    200\u001b[0m \u001b[43m        \u001b[49m\u001b[43mdifferentiable\u001b[49m\u001b[38;5;241;43m=\u001b[39;49m\u001b[43mgroup\u001b[49m\u001b[43m[\u001b[49m\u001b[38;5;124;43m\"\u001b[39;49m\u001b[38;5;124;43mdifferentiable\u001b[39;49m\u001b[38;5;124;43m\"\u001b[39;49m\u001b[43m]\u001b[49m\u001b[43m,\u001b[49m\n\u001b[0;32m    201\u001b[0m \u001b[43m        \u001b[49m\u001b[43mfused\u001b[49m\u001b[38;5;241;43m=\u001b[39;49m\u001b[43mgroup\u001b[49m\u001b[43m[\u001b[49m\u001b[38;5;124;43m\"\u001b[39;49m\u001b[38;5;124;43mfused\u001b[39;49m\u001b[38;5;124;43m\"\u001b[39;49m\u001b[43m]\u001b[49m\u001b[43m,\u001b[49m\n\u001b[0;32m    202\u001b[0m \u001b[43m        \u001b[49m\u001b[43mgrad_scale\u001b[49m\u001b[38;5;241;43m=\u001b[39;49m\u001b[38;5;28;43mgetattr\u001b[39;49m\u001b[43m(\u001b[49m\u001b[38;5;28;43mself\u001b[39;49m\u001b[43m,\u001b[49m\u001b[43m \u001b[49m\u001b[38;5;124;43m\"\u001b[39;49m\u001b[38;5;124;43mgrad_scale\u001b[39;49m\u001b[38;5;124;43m\"\u001b[39;49m\u001b[43m,\u001b[49m\u001b[43m \u001b[49m\u001b[38;5;28;43;01mNone\u001b[39;49;00m\u001b[43m)\u001b[49m\u001b[43m,\u001b[49m\n\u001b[0;32m    203\u001b[0m \u001b[43m        \u001b[49m\u001b[43mfound_inf\u001b[49m\u001b[38;5;241;43m=\u001b[39;49m\u001b[38;5;28;43mgetattr\u001b[39;49m\u001b[43m(\u001b[49m\u001b[38;5;28;43mself\u001b[39;49m\u001b[43m,\u001b[49m\u001b[43m \u001b[49m\u001b[38;5;124;43m\"\u001b[39;49m\u001b[38;5;124;43mfound_inf\u001b[39;49m\u001b[38;5;124;43m\"\u001b[39;49m\u001b[43m,\u001b[49m\u001b[43m \u001b[49m\u001b[38;5;28;43;01mNone\u001b[39;49;00m\u001b[43m)\u001b[49m\u001b[43m,\u001b[49m\n\u001b[0;32m    204\u001b[0m \u001b[43m    \u001b[49m\u001b[43m)\u001b[49m\n\u001b[0;32m    206\u001b[0m \u001b[38;5;28;01mreturn\u001b[39;00m loss\n",
      "File \u001b[1;32mc:\\Users\\Admin\\AppData\\Local\\Programs\\Python\\Python311\\Lib\\site-packages\\torch\\optim\\adamw.py:335\u001b[0m, in \u001b[0;36madamw\u001b[1;34m(params, grads, exp_avgs, exp_avg_sqs, max_exp_avg_sqs, state_steps, foreach, capturable, differentiable, fused, grad_scale, found_inf, amsgrad, beta1, beta2, lr, weight_decay, eps, maximize)\u001b[0m\n\u001b[0;32m    332\u001b[0m \u001b[38;5;28;01melse\u001b[39;00m:\n\u001b[0;32m    333\u001b[0m     func \u001b[38;5;241m=\u001b[39m _single_tensor_adamw\n\u001b[1;32m--> 335\u001b[0m \u001b[43mfunc\u001b[49m\u001b[43m(\u001b[49m\n\u001b[0;32m    336\u001b[0m \u001b[43m    \u001b[49m\u001b[43mparams\u001b[49m\u001b[43m,\u001b[49m\n\u001b[0;32m    337\u001b[0m \u001b[43m    \u001b[49m\u001b[43mgrads\u001b[49m\u001b[43m,\u001b[49m\n\u001b[0;32m    338\u001b[0m \u001b[43m    \u001b[49m\u001b[43mexp_avgs\u001b[49m\u001b[43m,\u001b[49m\n\u001b[0;32m    339\u001b[0m \u001b[43m    \u001b[49m\u001b[43mexp_avg_sqs\u001b[49m\u001b[43m,\u001b[49m\n\u001b[0;32m    340\u001b[0m \u001b[43m    \u001b[49m\u001b[43mmax_exp_avg_sqs\u001b[49m\u001b[43m,\u001b[49m\n\u001b[0;32m    341\u001b[0m \u001b[43m    \u001b[49m\u001b[43mstate_steps\u001b[49m\u001b[43m,\u001b[49m\n\u001b[0;32m    342\u001b[0m \u001b[43m    \u001b[49m\u001b[43mamsgrad\u001b[49m\u001b[38;5;241;43m=\u001b[39;49m\u001b[43mamsgrad\u001b[49m\u001b[43m,\u001b[49m\n\u001b[0;32m    343\u001b[0m \u001b[43m    \u001b[49m\u001b[43mbeta1\u001b[49m\u001b[38;5;241;43m=\u001b[39;49m\u001b[43mbeta1\u001b[49m\u001b[43m,\u001b[49m\n\u001b[0;32m    344\u001b[0m \u001b[43m    \u001b[49m\u001b[43mbeta2\u001b[49m\u001b[38;5;241;43m=\u001b[39;49m\u001b[43mbeta2\u001b[49m\u001b[43m,\u001b[49m\n\u001b[0;32m    345\u001b[0m \u001b[43m    \u001b[49m\u001b[43mlr\u001b[49m\u001b[38;5;241;43m=\u001b[39;49m\u001b[43mlr\u001b[49m\u001b[43m,\u001b[49m\n\u001b[0;32m    346\u001b[0m \u001b[43m    \u001b[49m\u001b[43mweight_decay\u001b[49m\u001b[38;5;241;43m=\u001b[39;49m\u001b[43mweight_decay\u001b[49m\u001b[43m,\u001b[49m\n\u001b[0;32m    347\u001b[0m \u001b[43m    \u001b[49m\u001b[43meps\u001b[49m\u001b[38;5;241;43m=\u001b[39;49m\u001b[43meps\u001b[49m\u001b[43m,\u001b[49m\n\u001b[0;32m    348\u001b[0m \u001b[43m    \u001b[49m\u001b[43mmaximize\u001b[49m\u001b[38;5;241;43m=\u001b[39;49m\u001b[43mmaximize\u001b[49m\u001b[43m,\u001b[49m\n\u001b[0;32m    349\u001b[0m \u001b[43m    \u001b[49m\u001b[43mcapturable\u001b[49m\u001b[38;5;241;43m=\u001b[39;49m\u001b[43mcapturable\u001b[49m\u001b[43m,\u001b[49m\n\u001b[0;32m    350\u001b[0m \u001b[43m    \u001b[49m\u001b[43mdifferentiable\u001b[49m\u001b[38;5;241;43m=\u001b[39;49m\u001b[43mdifferentiable\u001b[49m\u001b[43m,\u001b[49m\n\u001b[0;32m    351\u001b[0m \u001b[43m    \u001b[49m\u001b[43mgrad_scale\u001b[49m\u001b[38;5;241;43m=\u001b[39;49m\u001b[43mgrad_scale\u001b[49m\u001b[43m,\u001b[49m\n\u001b[0;32m    352\u001b[0m \u001b[43m    \u001b[49m\u001b[43mfound_inf\u001b[49m\u001b[38;5;241;43m=\u001b[39;49m\u001b[43mfound_inf\u001b[49m\u001b[43m,\u001b[49m\n\u001b[0;32m    353\u001b[0m \u001b[43m\u001b[49m\u001b[43m)\u001b[49m\n",
      "File \u001b[1;32mc:\\Users\\Admin\\AppData\\Local\\Programs\\Python\\Python311\\Lib\\site-packages\\torch\\optim\\adamw.py:466\u001b[0m, in \u001b[0;36m_single_tensor_adamw\u001b[1;34m(params, grads, exp_avgs, exp_avg_sqs, max_exp_avg_sqs, state_steps, grad_scale, found_inf, amsgrad, beta1, beta2, lr, weight_decay, eps, maximize, capturable, differentiable)\u001b[0m\n\u001b[0;32m    463\u001b[0m     \u001b[38;5;28;01melse\u001b[39;00m:\n\u001b[0;32m    464\u001b[0m         denom \u001b[38;5;241m=\u001b[39m (exp_avg_sq\u001b[38;5;241m.\u001b[39msqrt() \u001b[38;5;241m/\u001b[39m bias_correction2_sqrt)\u001b[38;5;241m.\u001b[39madd_(eps)\n\u001b[1;32m--> 466\u001b[0m     \u001b[43mparam\u001b[49m\u001b[38;5;241;43m.\u001b[39;49m\u001b[43maddcdiv_\u001b[49m\u001b[43m(\u001b[49m\u001b[43mexp_avg\u001b[49m\u001b[43m,\u001b[49m\u001b[43m \u001b[49m\u001b[43mdenom\u001b[49m\u001b[43m,\u001b[49m\u001b[43m \u001b[49m\u001b[43mvalue\u001b[49m\u001b[38;5;241;43m=\u001b[39;49m\u001b[38;5;241;43m-\u001b[39;49m\u001b[43mstep_size\u001b[49m\u001b[43m)\u001b[49m\n\u001b[0;32m    468\u001b[0m \u001b[38;5;66;03m# Lastly, switch back to complex view\u001b[39;00m\n\u001b[0;32m    469\u001b[0m \u001b[38;5;28;01mif\u001b[39;00m amsgrad \u001b[38;5;129;01mand\u001b[39;00m torch\u001b[38;5;241m.\u001b[39mis_complex(params[i]):\n",
      "\u001b[1;31mKeyboardInterrupt\u001b[0m: "
     ]
    }
   ],
   "source": [
    "from torch.nn import CrossEntropyLoss\n",
    "from transformers import get_linear_schedule_with_warmup\n",
    "\n",
    "def train_epoch(model, data_loader, loss_fn, optimizer, device, scheduler, n_examples):\n",
    "    model = model.train()\n",
    "    losses = []\n",
    "    correct_predictions = 0\n",
    "\n",
    "    for d in data_loader:\n",
    "        input_ids = d[\"input_ids\"].to(device)\n",
    "        attention_mask = d[\"attention_mask\"].to(device)\n",
    "        labels = d[\"label\"].to(device)\n",
    "        #print(labels.shape)\n",
    "\n",
    "        outputs = model(\n",
    "            input_ids=input_ids,\n",
    "            attention_mask=attention_mask\n",
    "        )\n",
    "\n",
    "        _, preds = torch.max(outputs, dim=1)\n",
    "        loss = loss_fn(outputs, labels)\n",
    "\n",
    "        correct_predictions += torch.sum(preds == labels)\n",
    "        losses.append(loss.item())\n",
    "\n",
    "        loss.backward()\n",
    "        optimizer.step()\n",
    "        scheduler.step()\n",
    "        optimizer.zero_grad()\n",
    "\n",
    "    return correct_predictions.double() / n_examples, np.mean(losses)\n",
    "\n",
    "def eval_model(model, data_loader, loss_fn, device, n_examples):\n",
    "    model = model.eval()\n",
    "    losses = []\n",
    "    correct_predictions = 0\n",
    "\n",
    "    with torch.no_grad():\n",
    "        for d in data_loader:\n",
    "            input_ids = d[\"input_ids\"].to(device)\n",
    "            attention_mask = d[\"attention_mask\"].to(device)\n",
    "            labels = d[\"label\"].to(device)\n",
    "\n",
    "            outputs = model(\n",
    "                input_ids=input_ids,\n",
    "                attention_mask=attention_mask\n",
    "            )\n",
    "\n",
    "            _, preds = torch.max(outputs, dim=1)\n",
    "            loss = loss_fn(outputs, labels)\n",
    "\n",
    "            correct_predictions += torch.sum(preds == labels)\n",
    "            losses.append(loss.item())\n",
    "\n",
    "    return correct_predictions.double() / n_examples, np.mean(losses)\n",
    "\n",
    "EPOCHS = 3\n",
    "\n",
    "loss_fn = CrossEntropyLoss().to(device)\n",
    "\n",
    "total_steps = len(train_loader) * EPOCHS\n",
    "\n",
    "scheduler = get_linear_schedule_with_warmup(\n",
    "    optimizer,\n",
    "    num_warmup_steps=0,\n",
    "    num_training_steps=total_steps\n",
    ")\n",
    "\n",
    "best_accuracy = 0\n",
    "\n",
    "for epoch in range(EPOCHS):\n",
    "    print(f'Epoch {epoch + 1}/{EPOCHS}')\n",
    "    print('-' * 10)\n",
    "\n",
    "    train_acc, train_loss = train_epoch(\n",
    "        model,\n",
    "        train_loader,\n",
    "        loss_fn,\n",
    "        optimizer,\n",
    "        device,\n",
    "        scheduler,\n",
    "        len(X_train)\n",
    "    )\n",
    "\n",
    "    print(f'Train loss {train_loss} accuracy {train_acc}')\n",
    "\n",
    "    val_acc, val_loss = eval_model(\n",
    "        model,\n",
    "        val_loader,\n",
    "        loss_fn,\n",
    "        device,\n",
    "        len(X_val)\n",
    "    )\n",
    "\n",
    "    print(f'Val loss {val_loss} accuracy {val_acc}')\n",
    "\n",
    "    if val_acc > best_accuracy:\n",
    "        torch.save(model.state_dict(), 'best_model_state.bin')\n",
    "        best_accuracy = val_acc"
   ]
  },
  {
   "cell_type": "code",
   "execution_count": null,
   "id": "3a1ea609",
   "metadata": {},
   "outputs": [],
   "source": []
  }
 ],
 "metadata": {
  "kernelspec": {
   "display_name": "Python 3",
   "language": "python",
   "name": "python3"
  },
  "language_info": {
   "codemirror_mode": {
    "name": "ipython",
    "version": 3
   },
   "file_extension": ".py",
   "mimetype": "text/x-python",
   "name": "python",
   "nbconvert_exporter": "python",
   "pygments_lexer": "ipython3",
   "version": "3.11.5"
  }
 },
 "nbformat": 4,
 "nbformat_minor": 5
}
